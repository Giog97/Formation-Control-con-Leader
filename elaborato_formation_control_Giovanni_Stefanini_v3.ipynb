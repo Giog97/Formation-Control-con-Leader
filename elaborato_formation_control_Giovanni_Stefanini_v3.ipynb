{
 "cells": [
  {
   "cell_type": "markdown",
   "metadata": {},
   "source": [
    "# **<font color=\"purple\"> Elaborato Automation - Giovanni Stefanini</font>**\n",
    "\n",
    "## **Formation control con leader**\n",
    "\n",
    "Supponiamo di avere un agente **leader** e **N** agenti che vogliono mantenere una certa formazione (es. cerchio) intorno al leader.\n",
    "\n",
    "Il leader deve stare al centro della formazione. Gli altri agenti si dispongono in modo circolare intorno al leader, mantenendo la stessa distanza (raggio) uguale per tutti dal Leader e una certa distanza (che varia in base al numero di agenti) tra di loro. Quindi dovremo fissare la distanza dal leader, mentre tra gli agenti la distanza varierà in base al numero di agenti presenti. \n",
    "\n",
    "Supponiamo che l'obbiettivo del leader sia quello di andare verso un punto goal inizialmente fisso. Quindi solo il leader avrà un potenziale attrattivo verso il punto di goal. Da notare che sul leader non agirà nessun altro potenziale. \n",
    "Gli altri agenti dovranno avere un potenziale di formazione che li costringe a mantenere la formazione voluta, ma non subiscono il potenziale attrattivo del goal che subisce solo il leader.\n",
    "Quindi i potenziali presenti devono essere:\n",
    "- *Potenziale Attrattivo* che agisce sul leader e lo porta verso il goal.\n",
    "- *Potenziale di Formazione* che agisce sugli agenti (non-leader) e che gli permette di mantenere la formazione.\n",
    "\n",
    "Inizialmente si vuole un (punto) goal fisso, in seguito se il funzionamento è corretto si vuole muovere il goal in una direzione a caso e con velocità costante.\n",
    "\n",
    "**Obbiettivo**: capire quale è la velocità massima che permette di mantenere la formazione. Ovvero vogliamo capire se c'è robustezza. \n",
    "\n",
    "**Nota**: il risultato atteso è che se il goal si muove troppo velocemente, non si riesca a mantenere la formazione.\n",
    "\n",
    "**Consigli implementativi**: Fissare legge di controllo che funzioni per il caso base (ovvero goal fisso) e verificare se funziona anche nel caso con goal mobile.\n",
    "Potenziali da utilizzare consigliati sono:\n",
    "- *Potenziale Attrattivo* sul leader dovrà essere o quadratico o Huber-like. \n",
    "- *Potenziale di Formazione* sugli agenti dovrà essere potenziale dato dalla distanza.\n",
    "\n",
    "La generazione degli agenti deve essere casuale ma comunque vicini tra loro e vicini al leader. Il punto di goal deve essere generato in modo casuale (ma questo può essere anche più distante rispetto a dove vengono generati gli agenti). Anche la direzione di movimento del goal dovrà essere casuale.\n",
    "**Consiglio**: fissare una regione e poi generare uniformemente il leader in quella regione e in seguito utilizzare una gaussiana centrata nella posizione del leader per generare la posizione casuale degli agenti.\n",
    "\n",
    "**Realizzazione**: realizzare un notebook python in cui si spiega tutti i passi fatti per realizzare l'implementazione e in cui è riportato il codice.\n",
    "\n",
    "**Osservazioni finali**: ci sarà sicuramente da fare tuning per trovare i parametri ottimali dei potenziali."
   ]
  },
  {
   "cell_type": "markdown",
   "metadata": {},
   "source": [
    "--------------"
   ]
  },
  {
   "cell_type": "markdown",
   "metadata": {},
   "source": [
    "## **Inizio elaborato assegnato**"
   ]
  },
  {
   "cell_type": "markdown",
   "metadata": {},
   "source": [
    "### Librerie\n",
    "\n",
    "Si inizia importanto le librerie `numpy`, `matplotlib.pyplot` e `matplotlib.animation`. Queste librerie sono utilizzate in Python per il calcolo scientifico e la visualizzazione dei dati.\n",
    "Nello specifico:\n",
    "- **NumPy** (abbreviazione di Numerical Python): È una libreria per fare calcoli scientifici in Python. Fornisce supporto per l'array multidimensionale, insieme a una vasta gamma di funzioni per operare su tali array. NumPy è estremamente efficiente nel manipolare grandi quantità di dati numerici e fornisce molte funzioni utili per l'analisi dati, l'algebra lineare e altro ancora.\n",
    "- **Matplotlib**: È una libreria per la visualizzazione dei dati in Python. Matplotlib consente di creare grafici di alta qualità (matplotlib.pyplot) ma anche di creare delle gif animate (matplotlib.animation).\n",
    "\n",
    "In questo contesto specifico, si utilizza **NumPy per la gestione dei calcoli numerici** e **Matplotlib per visualizzare i risultati della simulazione** tramite grafici e animazioni."
   ]
  },
  {
   "cell_type": "code",
   "execution_count": 1,
   "metadata": {},
   "outputs": [],
   "source": [
    "#import delle librerie utili\n",
    "import numpy as np\n",
    "import matplotlib.pyplot as plt\n",
    "from matplotlib.animation import FuncAnimation"
   ]
  },
  {
   "cell_type": "markdown",
   "metadata": {},
   "source": [
    "--------------"
   ]
  },
  {
   "cell_type": "markdown",
   "metadata": {},
   "source": [
    "## **Agente**\n",
    "\n",
    "In questa sezione si definisce la classe `Agent` che rappresenta gli agenti nel sistema considerato. La classe `Agent` ha due attributi, `position` e `velocity`, che rappresentano rispettivamente la posizione e la velocità dell'agente."
   ]
  },
  {
   "cell_type": "code",
   "execution_count": 2,
   "metadata": {},
   "outputs": [],
   "source": [
    "# Definire la classe `Agent` per rappresentare gli agenti nel sistema\n",
    "class Agent:\n",
    "    def __init__(self, position, velocity):\n",
    "        self.position = position\n",
    "        self.velocity = velocity"
   ]
  },
  {
   "cell_type": "markdown",
   "metadata": {},
   "source": [
    "#### Generazione Agenti\n",
    "\n",
    "In questa sezione si vuole creare una funzione che generi gli agenti. La generazione della posizione degli agenti deve essere casuale ma comunque vicini tra loro. Nello specifico si vuole generare un 'leader' e poi generare più agenti 'semplici' che vengono generati casualmente vicino ad esso.  \n",
    "Per farlo si fissa una regione e poi si genera con probabilità uniforme il leader in quella regione. In seguito si utilizza una probabilità gaussiana centrata nella posizione del leader per generare la posizione casuale degli altri agenti semplici."
   ]
  },
  {
   "cell_type": "markdown",
   "metadata": {},
   "source": [
    "Per realizzare quanto descritto, si procede nel seguente modo:\n",
    "1. Generare casualmente la posizione del leader all'interno di una regione specificata.\n",
    "2. Utilizzare una distribuzione gaussiana centrata sulla posizione del leader per generare le posizioni casuali degli altri agenti.\n",
    "3. Creare gli oggetti `Agent` corrispondenti alle posizioni generate.\n",
    "\n",
    "L'implementazione di questa logica in python, avviene tramite due funzioni separate per gestire la generazione del leader (`generate_leader`) e poi la generazione degli agenti (`generate_simple_agents`), nel modo seguente:"
   ]
  },
  {
   "cell_type": "code",
   "execution_count": 3,
   "metadata": {},
   "outputs": [],
   "source": [
    "# Genera la posizione del leader all'interno di una certa regione con dimensioni decise da noi\n",
    "def generate_leader(leader_region_center, leader_region_size):\n",
    "    leader_position = np.random.uniform(\n",
    "        leader_region_center - leader_region_size / 2,\n",
    "        leader_region_center + leader_region_size / 2,\n",
    "        size=2\n",
    "    ) #random.uniform(low=, high=, size=) # low e high indicano che tutti i valori generati saranno nell'intervallo [low,high], shape = Forma di uscita\n",
    "    return Agent(leader_position, np.zeros(2))  # Leader con velocità iniziale zero\n",
    "\n",
    "# Genera gli agenti semplici con una distribuzione gaussiana centrata sul leader\n",
    "def generate_simple_agents(num_simple_agents, leader_position, simple_agent_std_dev):\n",
    "    simple_agents_positions = np.random.normal(\n",
    "        leader_position,\n",
    "        simple_agent_std_dev,\n",
    "        size=(num_simple_agents, 2)\n",
    "    )\n",
    "    simple_agents = [Agent(position, np.zeros(2)) for position in simple_agents_positions]\n",
    "    return simple_agents"
   ]
  },
  {
   "cell_type": "markdown",
   "metadata": {},
   "source": [
    "Il parametro `leader_region_center` specifica il centro della regione dove verrà generato il leader, mentre `leader_region_size` indica la dimensione della regione. Infine, `simple_agent_std_dev` è la deviazione standard della distribuzione gaussiana utilizzata per generare le posizioni casuali degli agenti semplici rispetto alla posizione del leader.\n",
    "\n",
    "Queste funzioni servono quindi per generare il leader e gli agenti semplici.\n",
    "\n",
    "Di seguito si visualizza un esempio di utilizzo:"
   ]
  },
  {
   "cell_type": "code",
   "execution_count": 4,
   "metadata": {},
   "outputs": [],
   "source": [
    "# Generazione Agenti in base a una regione in cui deve essere generato il leader\n",
    "# Parametri di generazione\n",
    "num_agents = 10  # Numero totale di agenti, incluso il leader\n",
    "leader_region_center = np.array([5.0, 5.0])  # Centro della regione per il leader\n",
    "leader_region_size = 2.0  # Dimensione della regione per il leader\n",
    "simple_agent_std_dev = 0.5  # Deviazione standard per gli agenti semplici\n",
    "\n",
    "# Generazione del leader\n",
    "leader = generate_leader(leader_region_center, leader_region_size)\n",
    "\n",
    "# Generazione degli agenti semplici\n",
    "num_simple_agents = num_agents # - 1  # <-- Solo se si esclude il leader dal conteggio totale\n",
    "simple_agents = generate_simple_agents(num_simple_agents, leader.position, simple_agent_std_dev)"
   ]
  },
  {
   "cell_type": "markdown",
   "metadata": {},
   "source": [
    "Questo fornirà un oggetto `Agent` che rappresentano il leader e una lista di oggetti `Agent` che rappresentano gli agenti semplici."
   ]
  },
  {
   "cell_type": "markdown",
   "metadata": {},
   "source": [
    "##### Visualizzazione Leader e Agenti\n",
    "\n",
    "Adesso si visualizza la posizione dei vari agenti per verificare che il codice esegua quanto richiesto. Per farlo realizziamo la funzione `plot_agents` che prende in input la lista degli oggetti `Agent` (leader + agenti) e visualizza la posizione di tutti gli agenti su un grafico. Viene utilizzato un punto *rosso* per rappresentare il *leader* e punti *blu* per gli *agenti semplici*. Si può chiamare questa funzione per visualizzare la posizione di tutti gli agenti generati.\n",
    "\n",
    "**NB** dobbiamo passare una lista combinata tra leader e agenti semplici per avere questo plot, con primo elemento il leader"
   ]
  },
  {
   "cell_type": "code",
   "execution_count": 5,
   "metadata": {},
   "outputs": [
    {
     "data": {
      "image/png": "[encoded data removed]",
      "text/plain": [
       "<Figure size 576x576 with 1 Axes>"
      ]
     },
     "metadata": {
      "needs_background": "light"
     },
     "output_type": "display_data"
    }
   ],
   "source": [
    "# Visualizza la posizione di tutti gli agenti in un grafico.\n",
    "def plot_agents(agents):\n",
    "    # Estrai le posizioni x e y di tutti gli agenti\n",
    "    x_positions = [agent.position[0] for agent in agents]\n",
    "    y_positions = [agent.position[1] for agent in agents]\n",
    "\n",
    "    # Plot della posizione di tutti gli agenti\n",
    "    plt.figure(figsize=(8, 8))\n",
    "    plt.scatter(x_positions, y_positions, color='b', label='Agenti')\n",
    "    \n",
    "    # Plot della posizione del leader\n",
    "    plt.scatter(x_positions[0], y_positions[0], color='r', label='Leader')\n",
    "    \n",
    "    plt.xlabel('X')\n",
    "    plt.ylabel('Y')\n",
    "    plt.title('Posizione degli Agenti')\n",
    "    plt.legend()\n",
    "    plt.grid(True)\n",
    "    plt.show()\n",
    "    \n",
    "# Combina leader e agenti semplici in una lista\n",
    "agents = [leader] + simple_agents\n",
    "\n",
    "# Utilizza la funzione plot_agents per visualizzare la posizione di tutti gli agenti\n",
    "plot_agents(agents)"
   ]
  },
  {
   "cell_type": "markdown",
   "metadata": {},
   "source": [
    "--------------"
   ]
  },
  {
   "cell_type": "markdown",
   "metadata": {},
   "source": [
    "## **Goal**\n",
    "Il goal sarà rappresentato da ***un punto nello spazio***. Inizialmente viene utilizzato un goal fisso e verificato che il sistema faccia quanto richiesto. Successivamente il goal si muoverà in una direzione fissa con una certa velocità costante. \n",
    "\n",
    "#### Generazione Goal\n",
    "\n",
    "Adesso si vuole generare casualmente la posizione del goal in modo che sia abbastanza distante dalla posizione del leader.\n",
    "Per ottenere questo risultato, si difinisce una funzione (`generate_goal_position`) che genera casualmente la posizione del goal all'interno di un'area di una certa dimensione, mantenendo una distanza minima dalla posizione del leader."
   ]
  },
  {
   "cell_type": "code",
   "execution_count": 6,
   "metadata": {},
   "outputs": [
    {
     "name": "stdout",
     "output_type": "stream",
     "text": [
      "Posizione del goal: [9.39637474 8.91359991]\n"
     ]
    }
   ],
   "source": [
    "# Genera casualmente la posizione del goal in modo che sia abbastanza distante dalla posizione del leader\n",
    "def generate_goal_position(leader_position, min_distance_from_leader, domain_size):\n",
    "\n",
    "    # Genera casualmente la posizione del goal all'interno del dominio\n",
    "    goal_position = np.random.uniform(0, domain_size, size=2)\n",
    "    \n",
    "    # Calcola la distanza tra il goal e il leader\n",
    "    distance_to_leader = np.linalg.norm(goal_position - leader_position)\n",
    "    \n",
    "    # Se la distanza al leader è inferiore alla distanza minima desiderata,\n",
    "    # sposta il goal in modo che sia abbastanza distante dal leader\n",
    "    while distance_to_leader < min_distance_from_leader:\n",
    "        goal_position = np.random.uniform(0, domain_size, size=2)\n",
    "        distance_to_leader = np.linalg.norm(goal_position - leader_position)\n",
    "    \n",
    "    return goal_position # Restituisce la posizione del goal.\n",
    "\n",
    "# Utilizza la funzione per generare la posizione del goal\n",
    "goal_position = generate_goal_position(leader.position, min_distance_from_leader=5.0, domain_size=10.0)\n",
    "print(\"Posizione del goal:\", goal_position)"
   ]
  },
  {
   "cell_type": "markdown",
   "metadata": {},
   "source": [
    "Questa funzione `generate_goal_position` genera casualmente la posizione del goal all'interno del dominio specificato. Se la distanza tra il goal e il leader è inferiore alla distanza minima desiderata, la funzione genera nuovamente la posizione del goal finché non viene soddisfatta la condizione di distanza desiderata. Questa funzione sarà utilizzata per ottenere la posizione del goal con la distanza desiderata dal leader."
   ]
  },
  {
   "cell_type": "markdown",
   "metadata": {},
   "source": [
    "##### Visualizzazione posizione Agenti e posizione Goal\n",
    "\n",
    "Adesso si visualizza la posizione del goal e dei vari agenti per verificare che il codice esegua quanto richiesto. Per farlo realizziamo la funzione `plot_agents_with_goal` che prende in input la lista degli oggetti `Agent` (leader + agenti) e la posizione del goal. In seguito visualizza in <font color=\"green\">*verde*</font> la posizione del <font color=\"green\">*goal*</font>, in <font color=\"red\">*rosso*</font> il <font color=\"red\">*leader*</font> e in <font color=\"blu\">*blu*</font> gli <font color=\"blu\">*agenti semplici*</font>. Si può chiamare questa funzione per visualizzare la posizione di tutti gli agenti generati e del goal."
   ]
  },
  {
   "cell_type": "code",
   "execution_count": 7,
   "metadata": {},
   "outputs": [
    {
     "data": {
      "image/png": "[encoded data removed]",
      "text/plain": [
       "<Figure size 576x576 with 1 Axes>"
      ]
     },
     "metadata": {
      "needs_background": "light"
     },
     "output_type": "display_data"
    }
   ],
   "source": [
    "# Visualizza la posizione di tutti gli agenti e del goal in un grafico\n",
    "def plot_agents_with_goal(agents, goal_position):\n",
    "    \n",
    "    # Estrai le posizioni x e y di tutti gli agenti\n",
    "    x_positions = [agent.position[0] for agent in agents]\n",
    "    y_positions = [agent.position[1] for agent in agents]\n",
    "\n",
    "    # Plot della posizione di tutti gli agenti\n",
    "    plt.figure(figsize=(8, 8))\n",
    "    plt.scatter(x_positions, y_positions, color='b', label='Agenti')\n",
    "    \n",
    "    # Plot della posizione del leader\n",
    "    plt.scatter(x_positions[0], y_positions[0], color='r', label='Leader')\n",
    "    \n",
    "    # Plot della posizione del goal\n",
    "    plt.scatter(goal_position[0], goal_position[1], color='g', label='Goal')\n",
    "    \n",
    "    plt.xlabel('X')\n",
    "    plt.ylabel('Y')\n",
    "    plt.title('Posizione degli Agenti e del Goal')\n",
    "    plt.legend()\n",
    "    plt.grid(True)\n",
    "    plt.show()\n",
    "\n",
    "# Combina leader e agenti semplici in una lista\n",
    "# agents = [leader] + simple_agents\n",
    "\n",
    "# Utilizza la funzione per visualizzare la posizione di tutti gli agenti e del goal\n",
    "plot_agents_with_goal(agents, goal_position)\n",
    "\n",
    "# Rimuove il leader dalla lista\n",
    "agents.remove(leader) # Serve per poter eseguire le successive celle"
   ]
  },
  {
   "cell_type": "markdown",
   "metadata": {},
   "source": [
    "--------------"
   ]
  },
  {
   "cell_type": "markdown",
   "metadata": {},
   "source": [
    "## **<font color=\"red\">Potenziale Attrattivo sul Leader</font>**\n",
    "\n",
    "Per implementare il ***potenziale*** attrattivo quadratico che agisce sul leader e lo avvicina al goal, si definisce una funzione (`attractive_potential`) che calcoli questo potenziale.\n",
    "\n",
    "La formula matematica utilizzata per il potenziale attrattivo (quadratico) $J_{\\text{attrattivo}}$ tra due punti $\\mathbf{p}_{\\text{leader}} $ e $\\mathbf{p}_{\\text{goal}} $ è definito come:\n",
    "\n",
    "$J_{\\text{attrattivo}}(\\mathbf{p}_{\\text{leader}}, \\mathbf{p}_{\\text{goal}}) = \\frac{1}{2} k_{\\text{attraction}} ||\\mathbf{p}_{\\text{leader}} - \\mathbf{p}_{\\text{goal}}||^2 $\n",
    "\n",
    "Dove:\n",
    "- $k_{\\text{attraction}}$ è una costante che regola l'intensità del potenziale attrattivo,\n",
    "- $\\mathbf{p}_{\\text{leader}}$ è la posizione del leader,\n",
    "- $\\mathbf{p}_{\\text{goal}}$ è la posizione del goal,\n",
    "- $||\\mathbf{p}_{\\text{leader}} - \\mathbf{p}_{\\text{goal}}||$ rappresenta la distanza euclidea tra $\\mathbf{p}_{\\text{leader}} $  e $\\mathbf{p}_{\\text{goal}} $.\n",
    "\n",
    "Questo potenziale crea un'attrazione tra il leader e il goal, aumentando all'aumentare della distanza tra di loro.\n",
    "\n",
    "Di seguito l'implementazione in python:"
   ]
  },
  {
   "cell_type": "code",
   "execution_count": 8,
   "metadata": {},
   "outputs": [],
   "source": [
    "# Calcola il potenziale attrattivo (quadratico) tra il leader e il goal\n",
    "def attractive_potential(leader_position, goal_position, k_attraction):\n",
    "    distance_to_goal = np.linalg.norm(leader_position - goal_position) #calcola la norma euclidea della distanza tra Pleader e Pgoal\n",
    "    return 0.5 * k_attraction * distance_to_goal ** 2 #calcola il valore del potenziale attrattivo secondo la formula precedente"
   ]
  },
  {
   "cell_type": "markdown",
   "metadata": {},
   "source": [
    "### Forza Attrattiva sul leader\n",
    "\n",
    "Per ottenere la ***forza*** derivante dal potenziale attrattivo definito precedentemente, possiamo calcolare il gradiente negativo del potenziale. Il gradiente di una funzione scalare è un vettore che punta nella direzione in cui la funzione cresce più rapidamente, e la sua magnitudine rappresenta il tasso di crescita della funzione in quella direzione. In questo caso, si vuole la direzione in cui il potenziale attrattivo diminuisce più rapidamente, quindi si prende il suo negativo.\n",
    "\n",
    "Per il potenziale attrattivo che è stato precedentemente definito si ha che il gradiente è:\n",
    "\n",
    "$\n",
    "\\nabla J_{attrattivo} = -k_{attr} (\\mathbf{p}_{goal} - \\mathbf{p}_{leader})\n",
    "$\n",
    "\n",
    "dove:\n",
    "- $ \\nabla J_{attrattivo} $ rappresenta il gradiente del potenziale attrattivo,\n",
    "- $ k_{attr} $ è la costante di attrazione,\n",
    "- $ \\mathbf{p}_{leader} $ è la posizione del leader,\n",
    "- $ \\mathbf{p}_{goal} $ è la posizione del goal."
   ]
  },
  {
   "cell_type": "markdown",
   "metadata": {},
   "source": [
    "Quindi, per ottenere la forza, è sufficiente prendere il gradiente negativo del potenziale attrattivo:\n",
    "\n",
    "$\n",
    "\\text{Forza}_{attrattiva} = k_{attr} (\\mathbf{p}_{goal} - \\mathbf{p}_{leader}) = - \\nabla J_{attrattivo}\n",
    "$\n",
    "\n",
    "In questo modo, si ottiene un vettore che indica la direzione e l'intensità della forza che spinge il leader verso il goal. Questo vettore di forza può quindi essere utilizzato per muovere il leader nella simulazione."
   ]
  },
  {
   "cell_type": "code",
   "execution_count": 9,
   "metadata": {},
   "outputs": [],
   "source": [
    "# Funzione per calcolare la forza attrattiva (gradiente negativo del potenziale)\n",
    "def calculate_attraction_force(leader_position, goal_position, k_attraction):\n",
    "    return -k_attraction * (leader_position - goal_position)"
   ]
  },
  {
   "cell_type": "markdown",
   "metadata": {},
   "source": [
    "Si può quindi utilizzare la funzione `calculate_attraction_force` per calcolare la forza agente che agisce sul leader e lo avvicina al goal, piuttosto che usare il potenziale attrattivo."
   ]
  },
  {
   "cell_type": "markdown",
   "metadata": {},
   "source": [
    "Notare che la _direzione della forza attrattiva_ è opposta a quella del gradiente del potenziale attrattivo. In altre parole, la forza attrattiva punta nella direzione in cui il potenziale attrattivo diminuisce più rapidamente. Questo significa che la forza attrattiva spingerà il leader verso il goal."
   ]
  },
  {
   "cell_type": "markdown",
   "metadata": {},
   "source": [
    "#### Effetto forza attrattiva sul Leader\n",
    "\n",
    "Per visualizzare l'effetto della forza attrattiva sul leader e osservare cosa succede nel tempo con un'animazione, sono stati seguiti i seguenti passaggi:\n",
    "\n",
    "1. Calcolata la forza attrattiva applicata al leader utilizzando il potenziale attrattivo quadratico.\n",
    "2. Aggiornato la posizione del leader in base alla velocità che viene calcolata utilizzando la forza.\n",
    "3. Ripetuti i passaggi 1 e 2 per ogni frame dell'animazione."
   ]
  },
  {
   "cell_type": "code",
   "execution_count": 10,
   "metadata": {},
   "outputs": [
    {
     "data": {
      "image/png": "[encoded data removed]",
      "text/plain": [
       "<Figure size 432x288 with 1 Axes>"
      ]
     },
     "metadata": {
      "needs_background": "light"
     },
     "output_type": "display_data"
    }
   ],
   "source": [
    "# Parametri del sistema\n",
    "k_attraction = 0.125  # Costante che regola l'intensità del potenziale attrattivo\n",
    "mass = 1.0  # Massa del leader\n",
    "delta_time = 0.1  # Passo temporale \n",
    "epsilon = 0.1  # Soglia per considerare il GOAL raggiunto\n",
    "view_size = 20.0  # Dimensione della finestra visibile (distanza dal goal)\n",
    "\n",
    "# Parametri per gestione simulazione\n",
    "total_steps = 250  # Numero totale di passi di simulazione\n",
    "visualization_interval = 2  # Ogni quanti passi catturare un frame\n",
    "\n",
    "# Velocità del leader\n",
    "velocity = np.array([0.0, 0.0])  # Velocità iniziale\n",
    "\n",
    "# Acquisizione posizione leader\n",
    "leader_position = leader.position\n",
    "\n",
    "# Funzione per eseguire un passo della simulazione\n",
    "def simulate_step():\n",
    "    global leader_position, velocity\n",
    "\n",
    "    # Calcola la forza di attrazione\n",
    "    force = calculate_attraction_force(leader_position, goal_position, k_attraction)\n",
    "    dynamics_leader = force / mass\n",
    "\n",
    "    # Aggiorna la velocità (dinamica a singolo integratore, v = u)\n",
    "    velocity = dynamics_leader\n",
    "\n",
    "    # Aggiorna la posizione (x = x + v * dt)\n",
    "    leader_position += velocity * delta_time\n",
    "\n",
    "# Funzione per eseguire la simulazione completa e catturare i frame\n",
    "def run_simulation():\n",
    "    global frames\n",
    "    # Inizializzazione frames per generazione Gif\n",
    "    frames = []   # Per accumulare i frame per l'animazione\n",
    "    \n",
    "    for step in range(total_steps):\n",
    "        simulate_step()  # Esegui i calcoli della simulazione\n",
    "\n",
    "        # Cattura il frame ogni 'visualization_interval' passi\n",
    "        if step % visualization_interval == 0:  # Verifica se 'step' è un multiplo di 'visualization_interval'\n",
    "            # Salva lo stato attuale del sistema\n",
    "            frame_data = {\n",
    "                'leader': leader_position.copy(), # Salva la posizione corrente del leader\n",
    "                'goal': goal_position.copy(), # Salva la posizione corrente del goal\n",
    "                'agents': [agent.position.copy() for agent in agents] # Salva la posizione corrente degli agenti\n",
    "            }\n",
    "            frames.append(frame_data)  # Salva tutto lo stato\n",
    "\n",
    "\n",
    "# Funzione per aggiornare l'animazione\n",
    "def update(frame_index):\n",
    "    global frames\n",
    "\n",
    "    # Ottieni i dati del frame corrente\n",
    "    frame_data = frames[frame_index]\n",
    "\n",
    "    # Aggiorna la posizione del leader\n",
    "    sc_leader.set_offsets(frame_data['leader'])\n",
    "\n",
    "    # Centra gli assi attorno al goal\n",
    "    ax.set_xlim(frame_data['goal'][0] - view_size / 2, frame_data['goal'][0] + view_size / 2)\n",
    "    ax.set_ylim(frame_data['goal'][1] - view_size / 2, frame_data['goal'][1] + view_size / 2)\n",
    "\n",
    "    # Aggiorna la posizione degli agenti\n",
    "    sc_agents.set_offsets(frame_data['agents'])\n",
    "\n",
    "    return sc_leader, sc_agents\n",
    "\n",
    "# Esegui la simulazione prima dell'animazione\n",
    "run_simulation()\n",
    "\n",
    "# Inizializza il plot\n",
    "fig, ax = plt.subplots()\n",
    "sc_goal = ax.scatter(goal_position[0], goal_position[1], color='g', label='Goal', s=100, marker='x')  # Goal verde\n",
    "sc_leader = ax.scatter(leader_position[0], leader_position[1], color='r', label='Leader', s=100)  # Leader rosso\n",
    "sc_agents = ax.scatter([agent.position[0] for agent in agents], [agent.position[1] for agent in agents], color='b', label='Agents', s=50)  # Agenti blu\n",
    "\n",
    "# Configura gli assi\n",
    "ax.legend()\n",
    "ax.grid(True)\n",
    "ax.set_xlim(goal_position[0] - view_size / 2, goal_position[0] + view_size / 2)\n",
    "ax.set_ylim(goal_position[1] - view_size / 2, goal_position[1] + view_size / 2)\n",
    "\n",
    "# Crea e salva l'animazione\n",
    "ani = FuncAnimation(fig, update, frames=len(frames), interval=20)\n",
    "ani.save('leader_to_goal.gif', dpi=100, fps=30, writer='pillow')\n",
    "plt.show()"
   ]
  },
  {
   "cell_type": "markdown",
   "metadata": {},
   "source": [
    "Notare la presenza di tre funzioni:\n",
    "\n",
    "- **`simulate_step()`**: Simula un singolo passo temporale della dinamica del sistema.\n",
    "- **`run_simulation()`**: Esegue l'intera simulazione per il numero totale di passi (`total_steps`).\n",
    "- **`update(frame_index)`**: Aggiorna la visualizzazione per un frame specifico dell'animazione.\n",
    "\n",
    "Quindi `simulate_step()` è il cuore della simulazione fisica e viene chiamato ad ogni passo da `run_simulation()` che coordina l'esecuzione della simulazione e salva i dati per l'animazione. Infine `update()` utilizza i dati salvati in `frames` per creare i singoli frame dell'animazione."
   ]
  },
  {
   "cell_type": "markdown",
   "metadata": {},
   "source": [
    "--------------"
   ]
  },
  {
   "cell_type": "markdown",
   "metadata": {},
   "source": [
    "## **<font color=\"blue\">Potenziale di Formazione sugli agenti</font>**\n",
    "\n",
    "Per definire il potenziale di formazione che permette agli agenti semplici di disporsi in modo circolare intorno al leader (quindi rimanere a una determinata distanza dal leader) e mantenere la stessa distanza tra di loro, si utilizza una funzione potenziale basata sulla distanza tra gli agenti e la posizione target che devono raggiungere.\n",
    "\n",
    "### Potenziale di formazione sugli agenti\n",
    "\n",
    "Funzione potenziale che può essere usata è la seguente:\n",
    "\n",
    "$$ J_{\\text{formazionecomplessivo}} = \\sum_{i=1}^{N} \\frac{1}{2} k_{\\text{formation}} \\| \\mathbf{p}_i - \\mathbf{p}_{target} \\| ^2 $$\n",
    "\n",
    "Dove:\n",
    "- $N$: numero di agenti.\n",
    "- $k_{\\text{formation}}$: costante che regola l'intensità del potenziale di formazione.\n",
    "- $p_{\\text{target}}$: posizione desiderata degli agenti.\n",
    "- $p_{\\text{i}}$: posizione dell'agente i.\n",
    "\n",
    "**NB**. quello nella formula sarà il potenziale complessivo di formazione."
   ]
  },
  {
   "cell_type": "markdown",
   "metadata": {},
   "source": [
    "### Potenziale formazione per un singolo agente $i$\n",
    "\n",
    "Il _potenziale totale_ per un singolo agente $i$ è quindi dato da:\n",
    "\n",
    "$ J_{\\text{formazione}, i} = \\frac{1}{2} k_{\\text{formation}} \\| \\mathbf{p}_{agente} - \\mathbf{p}_{target} \\| ^2  $\n",
    "\n",
    "Dove il $p_{\\text{agente}}$ è la posizione dell'agente."
   ]
  },
  {
   "cell_type": "markdown",
   "metadata": {},
   "source": [
    "### Forza Formazione su singolo Agente\n",
    "\n",
    "Per calcolare la forza che agisce su un singolo agente, si può utilizzare il gradiente del potenziale rispetto alla posizione dell'agente. Come già indicato il gradiente del potenziale è una quantità vettoriale che punta nella direzione in cui il potenziale aumenta più rapidamente e la sua magnitudine indica la pendenza del potenziale lungo quella direzione. Come nel caso precedente, otteniamo la forza che agisce sull'agente come il negativo di questo vettore gradiente:\n",
    "\n",
    "$\n",
    "\\text{Forza}_{formazione} = - \\nabla J_{formazione}\n",
    "$\n",
    "\n",
    "Quindi _per ogni singolo agente_ agisce una _unica forza che spinge l'agente a posizionarsi nella posizione corretta_ intorno al leader in base anche alla presenza degli altri agenti. Di seguito viene implemementato quanto teorizzato."
   ]
  },
  {
   "cell_type": "markdown",
   "metadata": {},
   "source": [
    "#### Distanza tra Agenti Semplici\n",
    "\n",
    "Per disporre gli agenti in modo che siano equidistanti su una circonferenza attorno al leader, si può utilizzare la geometria circolare. Seguendo questi passi:\n",
    "\n",
    "1. **_Punto centrale_**: Il leader rappresenta il centro della circonferenza.\n",
    "2. **_Raggio_**: La distanza degli agenti dal leader ($d_{\\text{target}}$) è il raggio della circonferenza.\n",
    "3. **_Distribuzione uniforme_**: Per disporre \\(N\\) agenti equidistanti, si deve dividere la circonferenza in \\(N\\) angoli uguali. L'angolo tra due agenti consecutivi è dato da $(\\frac{2\\pi}{N}$).\n",
    "4. **_Coordinate polari_**: Usando le coordinate polari, si può calcolare le posizioni di ciascun agente con:\n",
    "   - $( x = x_{\\text{leader}} + r \\cdot \\cos(\\theta) )$\n",
    "   - $( y = y_{\\text{leader}} + r \\cdot \\sin(\\theta) )$\n",
    "   dove $( r )$ è il raggio e $( \\theta )$ varia in incrementi di $( \\frac{2\\pi}{N} )$.\n",
    "   \n",
    "Questo servirà per trovare il $p_{target}$ che deve raggiungere ogni singolo agente."
   ]
  },
  {
   "cell_type": "markdown",
   "metadata": {},
   "source": [
    "Per fare in modo che gli agenti si posizionino in cerchio intorno al leader si utilizza la funzione `distribute_agents_in_circle`. Le posizioni degli agenti restituite da questa funzione verranno considerate come **posizioni goal** per ciascun agente."
   ]
  },
  {
   "cell_type": "code",
   "execution_count": 11,
   "metadata": {},
   "outputs": [],
   "source": [
    "# Funzione per distribuire gli agenti in cerchio\n",
    "def distribute_agents_in_circle(leader_position, num_agents, radius):\n",
    "    agents_positions = []\n",
    "    angle_step = 2 * np.pi / num_agents  # Angolo tra due agenti consecutivi\n",
    "\n",
    "    for i in range(num_agents):\n",
    "        theta = i * angle_step\n",
    "        x = leader_position[0] + radius * np.cos(theta)\n",
    "        y = leader_position[1] + radius * np.sin(theta)\n",
    "        agents_positions.append((x, y))\n",
    "\n",
    "    return agents_positions"
   ]
  },
  {
   "cell_type": "markdown",
   "metadata": {},
   "source": [
    "La funzione `distribute_agents_in_circle` genera le posizioni goal distribuite equamente su una circonferenza attorno al leader, ovvero distribuisce gli agenti in cerchio intorno al leader."
   ]
  },
  {
   "cell_type": "markdown",
   "metadata": {},
   "source": [
    "#### Aggiornamento classe Agent\n",
    "\n",
    "Si aggiorna la classe `Agent` (agente) al fine di poter includere una posizione goal (`goal_position`) all'interno della formazione (punto in cui devono stare nella formazione). Questo ci aiuterà nell'esecuzione del codice."
   ]
  },
  {
   "cell_type": "code",
   "execution_count": 12,
   "metadata": {},
   "outputs": [],
   "source": [
    "# Classe Agent aggiornata per includere la posizione goal\n",
    "class Agent:\n",
    "    def __init__(self, position, velocity, goal_position=None):\n",
    "        self.position = np.array(position)\n",
    "        self.velocity = np.array(velocity)\n",
    "        self.goal_position = np.array(goal_position) if goal_position is not None else None"
   ]
  },
  {
   "cell_type": "markdown",
   "metadata": {},
   "source": [
    "#### Calcolo Forza di Formazione\n",
    "\n",
    "Per realizzare il codice che calcola la forza di formazione, possiamo seguire una procedura simile a quella utilizzata per la forza attrattiva sul leader. Tuttavia, anziché spostare il leader verso un obiettivo, si sposta gli agenti per raggiungere la formazione desiderata.\n",
    "Quindi, si calcolerà la **forza di formazione** che avvicina gli agenti alla loro posizione goal corretta nella formazione."
   ]
  },
  {
   "cell_type": "code",
   "execution_count": 13,
   "metadata": {},
   "outputs": [],
   "source": [
    "# Funzione per calcolare la forza attrattiva verso il goal (rinominata)\n",
    "def calculate_formation_force(agent_position, goal_position, k_formation):\n",
    "    return -k_formation * (agent_position - goal_position)"
   ]
  },
  {
   "cell_type": "markdown",
   "metadata": {},
   "source": [
    "Inoltre per far sì che ogni agente si collochi nella **posizione goal** più vicina alla propria posizione iniziale, si aggiunge una logica per assegnare ogni posizione goal a un agente, minimizzando la distanza tra la posizione iniziale dell'agente e la posizione goal.\n",
    "Questo è realizzato utilizzando un algoritmo che associa ogni agente alla posizione goal più vicina, evitando sovrapposizioni. Una soluzione efficace è l'uso di un **algoritmo greedy** (che minimizza il percorso).\n",
    "\n",
    "Codice algoritmo greedy:"
   ]
  },
  {
   "cell_type": "code",
   "execution_count": 14,
   "metadata": {},
   "outputs": [],
   "source": [
    "# Funzione per assegnare le posizioni goal agli agenti minimizzando la distanza\n",
    "def assign_goals_to_agents(agents, goal_positions):\n",
    "    unassigned_goals = goal_positions.copy()  # Copia delle posizioni goal ancora disponibili\n",
    "\n",
    "    for agent in agents:\n",
    "        # Trova la posizione goal più vicina all'agente\n",
    "        distances = [np.linalg.norm(agent.position - goal) for goal in unassigned_goals]\n",
    "        nearest_goal_idx = np.argmin(distances)\n",
    "        agent.goal_position = unassigned_goals.pop(nearest_goal_idx)  # Assegna e rimuovi la goal assegnata"
   ]
  },
  {
   "cell_type": "markdown",
   "metadata": {},
   "source": [
    "La funzione `assign_goals_to_agents` assegna ogni agente alla posizione goal più vicina. Per ogni agente, calcola la distanza rispetto a tutte le posizioni goal disponibili. Assegna la posizione più vicina e la rimuove dalla lista di posizioni goal ancora disponibili.\n",
    "\n",
    "Di seguito è implemento un codice che realizza un'animazione in cui ogni agente si muove verso la propria posizione obiettivo:"
   ]
  },
  {
   "cell_type": "code",
   "execution_count": 15,
   "metadata": {},
   "outputs": [
    {
     "data": {
      "image/png": "[encoded data removed]",
      "text/plain": [
       "<Figure size 432x432 with 1 Axes>"
      ]
     },
     "metadata": {
      "needs_background": "light"
     },
     "output_type": "display_data"
    }
   ],
   "source": [
    "# Parametri\n",
    "leader_position = (5.0, 5.0)  # Posizione del leader\n",
    "num_agents = 8  # Numero di agenti\n",
    "radius = 3.0  # Distanza dal leader (raggio)\n",
    "k_formation = 0.5  # Costante attrattiva per il movimento\n",
    "mass = 1.0  # Massa degli agenti\n",
    "delta_time = 0.1  # Passo temporale\n",
    "epsilon_agents = 0.1  # Soglia per considerare un goal raggiunto (agente nella posizione corretta)\n",
    "\n",
    "# Parametri gestione simulazione\n",
    "total_steps = 100  # Numero totale di passi di simulazione\n",
    "visualization_interval = 2  # Ogni quanti passi catturare un frame\n",
    "\n",
    "# Genera le posizioni goal\n",
    "goal_positions = distribute_agents_in_circle(leader_position, num_agents, radius)\n",
    "\n",
    "# Inizializza gli agenti in posizioni casuali\n",
    "agents = [Agent(position=np.random.uniform(0, 10, size=2), velocity=np.zeros(2)) \n",
    "          for _ in range(num_agents)]\n",
    "\n",
    "# Assegna le posizioni goal agli agenti\n",
    "assign_goals_to_agents(agents, goal_positions)\n",
    "\n",
    "# Funzione per simulare un passo della simulazione\n",
    "def simulate_step():\n",
    "    global agents\n",
    "\n",
    "    for agent in agents:\n",
    "        if agent.goal_position is not None:\n",
    "            # Calcola la forza attrattiva verso il goal\n",
    "            force = calculate_formation_force(agent.position, agent.goal_position, k_formation)\n",
    "            dynamics_agent = force / mass\n",
    "            agent.velocity = dynamics_agent  # Aggiorna la velocità (dinamica a singolo integratore)\n",
    "            agent.position += agent.velocity * delta_time  # Aggiorna la posizione\n",
    "\n",
    "            # Se l'agente raggiunge il goal, ferma il movimento\n",
    "            if np.linalg.norm(agent.position - agent.goal_position) < epsilon_agents:\n",
    "                agent.velocity = np.zeros(2)  # Ferma l'agente\n",
    "                agent.goal_position = None  # Rimuove il goal\n",
    "\n",
    "# Funzione per eseguire la simulazione completa e catturare i frame\n",
    "def run_simulation():\n",
    "    global frames\n",
    "    frames = []  # Inizializza la lista dei frame prima di iniziare la simulazione\n",
    "\n",
    "    for step in range(total_steps):\n",
    "        simulate_step()\n",
    "\n",
    "        # Cattura il frame ogni 'visualization_interval' passi\n",
    "        if step % visualization_interval == 0:\n",
    "            frame_data = {\n",
    "                'agents': [agent.position.copy() for agent in agents],\n",
    "                'goals': goal_positions.copy(),\n",
    "                'leader': leader_position\n",
    "            }\n",
    "            frames.append(frame_data)\n",
    "\n",
    "# Funzione per aggiornare la visualizzazione\n",
    "def update(frame_index):\n",
    "    global frames\n",
    "\n",
    "    # Ottieni i dati del frame corrente\n",
    "    frame_data = frames[frame_index]\n",
    "\n",
    "    # Aggiorna la posizione degli agenti\n",
    "    sc_agents.set_offsets(frame_data['agents'])\n",
    "\n",
    "    # Aggiorna il leader e i goal se necessario\n",
    "    sc_leader.set_offsets(frame_data['leader'])\n",
    "    return sc_agents, sc_leader\n",
    "\n",
    "# Esegui la simulazione\n",
    "run_simulation()\n",
    "\n",
    "# Configura la visualizzazione iniziale\n",
    "fig, ax = plt.subplots(figsize=(6, 6))\n",
    "sc_agents = ax.scatter([agent.position[0] for agent in agents],\n",
    "                       [agent.position[1] for agent in agents], color='b', label='Agenti', s=50)\n",
    "sc_leader = ax.scatter([leader_position[0]], [leader_position[1]], color='r', label='Leader', s=100)\n",
    "ax.scatter([goal[0] for goal in goal_positions], \n",
    "           [goal[1] for goal in goal_positions], color='g', label='Goals', s=50, marker='x')\n",
    "\n",
    "# Configura il grafico\n",
    "ax.set_xlim(0, 10)\n",
    "ax.set_ylim(0, 10)\n",
    "ax.set_aspect('equal')\n",
    "ax.grid(True)\n",
    "ax.legend()\n",
    "\n",
    "# Crea e salva l'animazione\n",
    "ani = FuncAnimation(fig, update, frames=len(frames), interval=20)\n",
    "ani.save('agents_to_formation.gif', dpi=100, fps=30, writer='pillow')\n",
    "plt.show()"
   ]
  },
  {
   "cell_type": "markdown",
   "metadata": {},
   "source": [
    "In questo codice, dentro la funzione *update*, si ha:\n",
    "- *Movimento verso il goal*: Per ogni agente, si calcola una forza attrattiva basata sulla distanza dal goal e degli altri agenti. Si aggiornano velocità e posizione utilizzando le equazioni del moto.\n",
    "- *Condizione di arresto*: Quando un agente raggiunge il suo goal (distanza < `epsilon_agents`), la sua velocità viene azzerata, e il goal è considerato raggiunto."
   ]
  },
  {
   "cell_type": "markdown",
   "metadata": {},
   "source": [
    "--------------"
   ]
  },
  {
   "cell_type": "markdown",
   "metadata": {},
   "source": [
    "## **<font color=\"grey\">Dinamica a Singolo Integratore</font>**\n",
    "Notare che nell'implementazione è stata realizzata la **Dinamica a Singolo Integratore**.\n",
    "\n",
    "La *dinamica a singolo integratore* è un modello semplificato utilizzato comunemente nei sistemi multiagente per descrivere il comportamento dinamico di agenti che si muovono nello spazio. È caratterizzato dal fatto che la velocità dell'agente è direttamente controllabile e rappresenta l'evoluzione dello stato del sistema. \n",
    "Nel caso preso in esame di un sistema multiagente in uno spazio continuo, la dinamica di un singolo agente $i$ con stato $\\mathbf{x}_i \\in \\mathbb{R}^n$ può essere descritta come:\n",
    "\n",
    "$ \\dot{\\mathbf{x}}_i = \\mathbf{u}_i $\n",
    "\n",
    "dove:\n",
    "- $\\mathbf{x}_i$ è il vettore posizione dell'agente nello spazio $ ( \\mathbb{R}^n ) $;\n",
    "- $\\mathbf{u}_i$ è il vettore di controllo, che rappresenta direttamente la velocità desiderata dell'agente;\n",
    "- $\\dot{\\mathbf{x}}_i$ è la derivata temporale della posizione, cioè la velocità dell'agente.\n",
    "\n",
    "Il modello a singolo integratore è utile per descrivere in modo semplice ed efficace il comportamento di agenti autonomi in sistemi multiagente."
   ]
  },
  {
   "cell_type": "markdown",
   "metadata": {},
   "source": [
    "--------------"
   ]
  },
  {
   "cell_type": "markdown",
   "metadata": {},
   "source": [
    "## **<font color=\"green\">Movimento verso _Goal Fisso_</font>**\n",
    "\n",
    "In questa sezione, si vede come realizzare il movimento del Leader verso il _Goal Fisso_ e mantenere gli Agenti in formazione. Per farlo si unisce i codici precedenti in modo che:\n",
    "\n",
    "1. Il **leader** si muova verso il proprio goal usando la logica di `calculate_attraction_force`.\n",
    "2. Gli **altri agenti** aggiornino le loro posizioni relative al leader, mantenendo la formazione attorno al leader, usando la logica di `calculate_formation_force`.\n",
    "\n",
    "Di seguito il codice unificato:"
   ]
  },
  {
   "cell_type": "code",
   "execution_count": 16,
   "metadata": {},
   "outputs": [
    {
     "data": {
      "image/png": "[encoded data removed]",
      "text/plain": [
       "<Figure size 576x576 with 1 Axes>"
      ]
     },
     "metadata": {
      "needs_background": "light"
     },
     "output_type": "display_data"
    }
   ],
   "source": [
    "# Parametri del sistema\n",
    "k_attraction = 0.125  # Costante per l'attrazione del leader al suo goal\n",
    "k_formation = 0.5  # Costante per mantenere la formazione\n",
    "mass = 1.0  # Massa degli agenti\n",
    "delta_time = 0.1  # Passo temporale\n",
    "epsilon_leader = 0.1 # Soglia per considerare un goal raggiunto (0.1)\n",
    "epsilon_agents = 0.1 # Soglia per considerare una posizione raggiunta (0.1)\n",
    "radius = 3.0  # Raggio della formazione\n",
    "view_size = 20.0  # Dimensione della finestra visibile\n",
    "min_distance_from_leader = 5.0 # Distanza minima del goal dal leader\n",
    "domain_size = 10.0 # Dimensione del dominio di generazione del goal\n",
    "\n",
    "# Parametri gestione simulazione\n",
    "total_steps = 300  # Numero totale di passi di simulazione\n",
    "visualization_interval = 5  # Ogni quanti passi catturare un frame\n",
    "\n",
    "# --- Generazione Agenti e Leader in base a una regione in cui deve essere generato il leader\n",
    "leader_region_center = np.array([5.0, 5.0]) # Centro della regione fissa in cui deve essere generato il leader\n",
    "leader_region_size = 2.0 # Dimensioni della regione fissa in cui deve essere generato il leader\n",
    "simple_agent_std_dev = 0.5 # Deviazione standard della gaussiana che serve per generare gli agenti\n",
    "\n",
    "# Inizializza il leader e i suoi agenti\n",
    "leader = generate_leader(leader_region_center, leader_region_size)  # Posizione iniziale del leader\n",
    "num_agents = 5 # Numero totale di agenti semplici (escluso il leader)\n",
    "agents = generate_simple_agents(num_agents, leader.position, simple_agent_std_dev)\n",
    "\n",
    "# Genera il goal del leader\n",
    "goal_position = generate_goal_position(leader.position, min_distance_from_leader, domain_size)\n",
    "\n",
    "# Genera le posizioni goal degli agenti attorno al leader\n",
    "goal_positions = distribute_agents_in_circle(leader.position, num_agents, radius)\n",
    "assign_goals_to_agents(agents, goal_positions)\n",
    "\n",
    "# Funzione per simulare un passo della simulazione\n",
    "def simulate_step():\n",
    "    global leader, agents, goal_positions\n",
    "\n",
    "    # --- Movimento del leader\n",
    "    force_leader = calculate_attraction_force(leader.position, goal_position, k_attraction)\n",
    "    dynamics_leader = force_leader / mass\n",
    "    leader.velocity = dynamics_leader  # v = u # Dinamica a singolo integratore\n",
    "    leader.position += leader.velocity * delta_time\n",
    "\n",
    "    # --- Movimento degli agenti in formazione attorno al leader\n",
    "    # Aggiorna le posizioni goal degli agenti in base alla nuova posizione del leader\n",
    "    goal_positions = distribute_agents_in_circle(leader.position, num_agents, radius)\n",
    "    assign_goals_to_agents(agents, goal_positions)\n",
    "\n",
    "    # Aggiorna la posizione di ogni agente\n",
    "    for agent in agents:\n",
    "        if agent.goal_position is not None:\n",
    "            force = calculate_formation_force(agent.position, agent.goal_position, k_formation)\n",
    "            dynamics_agent = force / mass\n",
    "            agent.velocity = dynamics_agent  # v = u # Dinamica a singolo integratore\n",
    "            agent.position += agent.velocity * delta_time\n",
    "\n",
    "            if np.linalg.norm(agent.position - agent.goal_position) < epsilon_agents:\n",
    "                agent.velocity = np.zeros(2)\n",
    "                agent.goal_position = None\n",
    "\n",
    "# Funzione per eseguire la simulazione completa e catturare i frame\n",
    "def run_simulation():\n",
    "    global frames\n",
    "    frames = []  # Inizializza la lista dei frame prima di iniziare la simulazione\n",
    "\n",
    "    for step in range(total_steps):\n",
    "        simulate_step()  # Esegui un passo della simulazione\n",
    "\n",
    "        if step % visualization_interval == 0:\n",
    "            frame_data = {\n",
    "                'leader': leader.position.copy(),  # Posizione leader\n",
    "                'agents': [agent.position.copy() for agent in agents],  # Posizioni agenti\n",
    "                'goal': goal_position.copy()  # Posizione goal del leader\n",
    "            }\n",
    "            frames.append(frame_data)  # Aggiungi il frame\n",
    "\n",
    "# Funzione per aggiornare la visualizzazione\n",
    "def update(frame_index):\n",
    "    global frames\n",
    "\n",
    "    # Ottieni i dati del frame corrente\n",
    "    frame_data = frames[frame_index]\n",
    "\n",
    "    # Aggiorna la posizione del leader\n",
    "    sc_leader.set_offsets(frame_data['leader'])\n",
    "\n",
    "    # Aggiorna la posizione degli agenti\n",
    "    sc_agents.set_offsets(frame_data['agents'])\n",
    "\n",
    "    # Centra la vista attorno al goal del leader\n",
    "    ax.set_xlim(frame_data['leader'][0] - view_size / 2, frame_data['leader'][0] + view_size / 2)\n",
    "    ax.set_ylim(frame_data['leader'][1] - view_size / 2, frame_data['leader'][1] + view_size / 2)\n",
    "\n",
    "    return sc_leader, sc_agents\n",
    "\n",
    "# Esegui la simulazione prima dell'animazione\n",
    "run_simulation()\n",
    "\n",
    "# Visualizzazione iniziale\n",
    "fig, ax = plt.subplots(figsize=(8, 8))\n",
    "sc_leader = ax.scatter([leader.position[0]], [leader.position[1]], color='r', label='Leader', s=100) # Stampa leader\n",
    "sc_agents = ax.scatter([agent.position[0] for agent in agents], [agent.position[1] for agent in agents], color='b', label='Agenti', s=50) # Stampa agenti\n",
    "ax.scatter([goal_position[0]], [goal_position[1]], color='g', label='Goal Leader', s=100, marker='x') # Stampa goal\n",
    "\n",
    "# Configura il grafico\n",
    "ax.set_xlim(0, 10)\n",
    "ax.set_ylim(0, 10)\n",
    "ax.set_aspect('equal')\n",
    "ax.grid(True)\n",
    "ax.legend()\n",
    "\n",
    "# Crea l'animazione\n",
    "ani = FuncAnimation(fig, update, frames=len(frames), interval=20)\n",
    "ani.save('fixed_goal.gif', dpi=100, fps=30, writer='pillow')\n",
    "plt.show()"
   ]
  },
  {
   "cell_type": "markdown",
   "metadata": {},
   "source": [
    "Il leader si muove verso il proprio goal e gli agenti lo seguono mantenendo una formazione stabile attorno a lui. \n",
    "\n",
    "**NB** Il grafico mantiene il leader al centro della finestra visibile"
   ]
  },
  {
   "cell_type": "markdown",
   "metadata": {},
   "source": [
    "--------------"
   ]
  },
  {
   "cell_type": "markdown",
   "metadata": {},
   "source": [
    "## **<font color=\"green\">Movimento verso _Goal Mobile_</font>**"
   ]
  },
  {
   "cell_type": "markdown",
   "metadata": {},
   "source": [
    "In questa sezione, si vede come realizzare il movimento del Leader verso il _Goal Mobile_ e mantenere gli Agenti in formazione. Per farlo si prende il codice precedente e si aggiunge la logica per far muovere il Goal. Per fare in modo che il goal del leader si sposti a velocità costante in una direzione casuale durante l'animazione, si aggiorna la posizione del goal ad ogni frame attribuento al goal una certa velocità. Quindi si aggiunge un parametro per il movimento costante in una direzione casuale del goal, definendo una variabile che rappresenti l'intensità dello spostamento casuale del goal (`goal_speed`).\n",
    "\n",
    "Per aggiornare la posizione del goal si usa la seguente funzione (`move_goal`): "
   ]
  },
  {
   "cell_type": "code",
   "execution_count": 17,
   "metadata": {},
   "outputs": [],
   "source": [
    "def move_goal(goal_position, goal_velocity, delta_time):\n",
    "    # Aggiorna la posizione del goal\n",
    "    new_goal_position = goal_position + goal_velocity * delta_time # -- Aggiunto il delta time come parametro --\n",
    "    return new_goal_position"
   ]
  },
  {
   "cell_type": "markdown",
   "metadata": {},
   "source": [
    "Aggiornando il codice precedente con il movimento del goal otteniamo:"
   ]
  },
  {
   "cell_type": "code",
   "execution_count": 18,
   "metadata": {},
   "outputs": [
    {
     "data": {
      "image/png": "[encoded data removed]",
      "text/plain": [
       "<Figure size 576x576 with 1 Axes>"
      ]
     },
     "metadata": {
      "needs_background": "light"
     },
     "output_type": "display_data"
    }
   ],
   "source": [
    "# Parametri del sistema\n",
    "k_attraction = 0.125  # Costante per l'attrazione del leader al suo goal\n",
    "k_formation = 1.25  # Costante per mantenere la formazione\n",
    "mass = 1.0  # Massa degli agenti e leader\n",
    "delta_time = 0.1  # Passo temporale\n",
    "epsilon_leader = 0.1 # Soglia per considerare un goal raggiunto (0.1)\n",
    "epsilon_agents = 0.1 # Soglia per considerare una posizione raggiunta (0.1)\n",
    "radius = 3.0  # Raggio della formazione\n",
    "view_size = 20.0  # Dimensione della finestra visibile\n",
    "min_distance_from_leader = 5.0 # Distanza minima del goal dal leader\n",
    "domain_size = 10.0 # Dimensione del dominio di generazione del goal\n",
    "\n",
    "# Parametri gestione simulazione\n",
    "total_steps = 300  # Numero totale di passi di simulazione\n",
    "visualization_interval = 5  # Ogni quanti passi catturare un frame\n",
    "\n",
    "# --- Generazione Agenti e Leader in base a una regione in cui deve essere generato il leader\n",
    "leader_region_center = np.array([5.0, 5.0]) # Centro della regione fissa in cui deve essere generato il leader\n",
    "leader_region_size = 5.0 # Dimensioni della regione fissa in cui deve essere generato il leader\n",
    "simple_agent_std_dev = 1.5 # Deviazione standard della gaussiana che serve per generare gli agenti\n",
    "\n",
    "# Inizializza il leader e i suoi agenti\n",
    "leader = generate_leader(leader_region_center, leader_region_size)  # Posizione iniziale del leader\n",
    "num_agents = 5 # Numero totale di agenti semplici (escluso il leader)\n",
    "agents = generate_simple_agents(num_agents, leader.position, simple_agent_std_dev)\n",
    "\n",
    "# Genera il goal del leader\n",
    "goal_position = generate_goal_position(leader.position, min_distance_from_leader, domain_size)\n",
    "\n",
    "# Genera le posizioni goal degli agenti attorno al leader\n",
    "goal_positions = distribute_agents_in_circle(leader.position, num_agents, radius)\n",
    "assign_goals_to_agents(agents, goal_positions)\n",
    "\n",
    "# Parametro per la velocità del goal\n",
    "goal_speed = 0.5  # Velocità costante del goal ottimale: 0.5\n",
    "goal_velocity = np.random.uniform(-1, 1, size=2)  # Direzione iniziale casuale\n",
    "goal_velocity = goal_speed * goal_velocity / np.linalg.norm(goal_velocity)  # Normalizza la velocità\n",
    "\n",
    "# Funzione per simulare un passo della simulazione\n",
    "def simulate_step():\n",
    "    global leader, agents, goal_positions, goal_position, goal_velocity\n",
    "\n",
    "    # Movimento del goal del leader\n",
    "    goal_position = move_goal(goal_position, goal_velocity, delta_time)\n",
    "\n",
    "    # Movimento del leader\n",
    "    force_leader = calculate_attraction_force(leader.position, goal_position, k_attraction)\n",
    "    dynamics_leader = force_leader / mass\n",
    "    leader.velocity = dynamics_leader  # v = u # Dinamica a singolo integratore\n",
    "    leader.position += leader.velocity * delta_time\n",
    "\n",
    "    # Movimento degli agenti in formazione attorno al leader\n",
    "    goal_positions = distribute_agents_in_circle(leader.position, num_agents, radius)\n",
    "    assign_goals_to_agents(agents, goal_positions)\n",
    "\n",
    "    for agent in agents:\n",
    "        if agent.goal_position is not None:\n",
    "            # Calcola la forza attrattiva verso la posizione goal relativa\n",
    "            force = calculate_formation_force(agent.position, agent.goal_position, k_formation)\n",
    "            dynamics_agent = force / mass\n",
    "            agent.velocity = dynamics_agent  # v = u # Dinamica a singolo integratore\n",
    "            agent.position += agent.velocity * delta_time\n",
    "\n",
    "            # Controlla se l'agente ha raggiunto il goal\n",
    "            if np.linalg.norm(agent.position - agent.goal_position) < epsilon_agents:\n",
    "                agent.velocity = np.zeros(2)\n",
    "                agent.goal_position = None\n",
    "\n",
    "# Funzione per eseguire la simulazione completa e catturare i frame\n",
    "def run_simulation():\n",
    "    global frames\n",
    "    frames = []  # Inizializza la lista dei frame\n",
    "\n",
    "    for step in range(total_steps):\n",
    "        simulate_step()  # Simula un passo\n",
    "\n",
    "        if step % visualization_interval == 0:\n",
    "            frame_data = {\n",
    "                'leader': leader.position.copy(),\n",
    "                'agents': [agent.position.copy() for agent in agents],\n",
    "                'goal': goal_position.copy()\n",
    "            }\n",
    "            frames.append(frame_data)  # Salva i dati del frame\n",
    "\n",
    "# Funzione per aggiornare la visualizzazione\n",
    "def update(frame_index):\n",
    "    global frames\n",
    "\n",
    "    # Ottieni i dati del frame corrente\n",
    "    frame_data = frames[frame_index]\n",
    "\n",
    "    # Aggiorna la posizione del leader\n",
    "    sc_leader.set_offsets(frame_data['leader'])\n",
    "\n",
    "    # Aggiorna la posizione degli agenti\n",
    "    sc_agents.set_offsets(frame_data['agents'])\n",
    "\n",
    "    # Aggiorna la posizione del goal\n",
    "    sc_goal.set_offsets(frame_data['goal'])\n",
    "\n",
    "    # Centra la vista attorno al goal\n",
    "    ax.set_xlim(frame_data['leader'][0] - view_size / 2, frame_data['leader'][0] + view_size / 2)\n",
    "    ax.set_ylim(frame_data['leader'][1] - view_size / 2, frame_data['leader'][1] + view_size / 2)\n",
    "\n",
    "    return sc_leader, sc_agents, sc_goal\n",
    "\n",
    "# Visualizzazione iniziale\n",
    "fig, ax = plt.subplots(figsize=(8, 8))\n",
    "sc_leader = ax.scatter([leader.position[0]], [leader.position[1]], color='r', label='Leader', s=100)\n",
    "sc_agents = ax.scatter([agent.position[0] for agent in agents], [agent.position[1] for agent in agents], color='b', label='Agenti', s=50)\n",
    "sc_goal = ax.scatter([goal_position[0]], [goal_position[1]], color='g', label='Goal Leader', s=100, marker='x')\n",
    "\n",
    "# Configura il grafico\n",
    "ax.set_xlim(0, 10)\n",
    "ax.set_ylim(0, 10)\n",
    "ax.set_aspect('equal')\n",
    "ax.grid(True)\n",
    "ax.legend()\n",
    "\n",
    "# Simulazione\n",
    "run_simulation()\n",
    "\n",
    "# Animazione\n",
    "ani = FuncAnimation(fig, update, frames=len(frames), interval=20)\n",
    "ani.save('moving_goal.gif', dpi=100, fps=30, writer='pillow')\n",
    "plt.show()"
   ]
  },
  {
   "cell_type": "markdown",
   "metadata": {},
   "source": [
    "Nel codice precedente si può notare che si ha:\n",
    "- *Movimento costante del goal*: Ad ogni frame, il goal del leader si sposta in una direzione costante. Una volta calcolata la velocità iniziale, il goal si sposta linearmente lungo quella direzione.\n",
    "- *Moviemnto del sistema di agenti*: Ad ogni frame, la formazione di agenti e il leader si muovono verso il goal che si sta spostando."
   ]
  },
  {
   "cell_type": "markdown",
   "metadata": {},
   "source": [
    "--------------"
   ]
  },
  {
   "cell_type": "markdown",
   "metadata": {},
   "source": [
    "## **Parametri del sistema**\n",
    "\n",
    "Per implementare i precedenti esperimenti i parametri importanti che sono stati considerati sono:\n",
    "\n",
    "- **`k_attraction`** (Costante per l'attrazione del leader al suo goal): Serve per determinare la forza con cui il leader è attratto verso il suo obiettivo (goal). Un valore maggiore fa sì che il leader si muova più rapidamente verso il goal. \n",
    "\n",
    "- **`k_formation`** (Costante per mantenere la formazione): Serve per regolare la forza con cui gli agenti si posizionano attorno al leader mantenendo la formazione desiderata. Valori più alti fanno sì che gli agenti seguano più strettamente il leader, mentre valori bassi permettono movimenti più lenti e meno precisi.\n",
    "\n",
    "- **`mass`** (Massa degli agenti e del leader): La massa viene usata per calcolare l'accelerazione degli oggetti in base alla forza applicata ($F = ma$). Influisce sulla reattività del movimento: una massa maggiore rende il sistema più lento e stabile. ***Nota***: è stata considerata pari a 1 in modo che potesse semplificare i calcoli e che potesse essere considerata trascurabile.\n",
    "\n",
    "- **`delta_time`** (Passo temporale): Determina l'incremento temporale per ogni frame di simulazione. Valori più piccoli rendono la simulazione più precisa ma più lenta, mentre valori più grandi possono causare instabilità numeriche. ***Nota***: sono stati considerati valori diversi, ma quello che si combina meglio con i valori di k risulta essere un delta_time di 0.1.\n",
    "\n",
    "- **`epsilon`** (Soglia per considerare un goal raggiunto): Serve per fermare l'agente nel caso in cui la distanza dal goal sia minore di una certa soglia. Di questa se ne considera due tipi diversi (***_Nota_***: dagli esperimenti è venuto fuori che una buona epsilon è data per entrambi da 0.1.):\n",
    "   - **`epsilon_leader`:** Stabilisce la distanza minima tra il leader e il goal per considerare l'obiettivo raggiunto.\n",
    "   - **`epsilon_agents`:** Stabilisce la distanza minima tra un agente e la sua posizione obiettivo all'interno della formazione.\n",
    "\n",
    "- **`radius`** (Raggio della formazione): Indica la distanza a cui gli agenti devono disporsi rispetto al leader per mantenere la formazione circolare.\n",
    "\n",
    "- **`num_agents`** (Numero totale di agenti semplici): Indica il numero di agenti che devono mantenere la formazione attorno al leader. ***Nota***: più aumentiamo questo valore e più il computer avrà calcoli da fare, ciò rallenterà l'esecuzione.\n",
    "\n",
    "- **`goal_speed`** (Velocità costante del goal): Definisce la velocità con cui il goal del leader si muove nello spazio. \n",
    "\n",
    "Questi parametri insieme regolano il comportamento del leader, degli agenti e del goal. Alterare uno o più di essi consente di modificare la dinamica del sistema.\n",
    "Negli esperimenti fino ad ora considerati i valori dei parametri sono stati i seguenti:\n",
    "- k_attraction = 0.125 \n",
    "- k_formation = 0.5 (fisso)  o 1.25 (mobile)\n",
    "- mass = 1.0  \n",
    "- delta_time = 0.1  \n",
    "- epsilon_leader = 0.1 \n",
    "- epsilon_agents = 0.1 \n",
    "- radius = 3.0  \n",
    "- num_agents = 5 \n",
    "- goal_speed = 0.5  "
   ]
  },
  {
   "cell_type": "markdown",
   "metadata": {},
   "source": [
    "#### **Rapporto tra $k_{attraction}$ e $k_{formation}$**\n",
    "\n",
    "Dati i parametri del sistema precedentemente elencati, si nota che se si ha un certo `k_attraction`, per avere un `k_formation` che consente agli agenti di seguire in modo efficente il leader, si deve distinguere tra il caso in cui il Goal sia fisso e il caso in cui il Goal sia mobile:\n",
    "- **Goal fisso**: il k_formation deve essere più grande di almeno 4 volte del k_attraction per avere un buon esperimento.\n",
    "- **Goal mobile**: quando aggiungiamo il movimento del goal, il k_formation deve essere almeno 10 volte superiore al k_attraction per avere un buon esperimento.\n",
    "\n",
    "Quindi il rapporto che abbiamo tra $k_{formation}$ e $k_{attraction}$, negli esperimenti finora condotti è di:\n",
    "- $k_{formation} \\approx 4 \\times k_{attraction}$ per il ***Goal fisso***\n",
    "- $k_{formation} \\approx 10 \\times k_{attraction}$ per il ***Goal mobile***\n",
    "\n",
    "Questo assicura che gli agenti si \"aggancino\" rapidamente alla formazione ma senza disturbarla eccessivamente mentre il leader si muove.\n",
    "\n",
    "**NB** Se si varia i parametri del sistema rispetto alla configurazione base presa per gli esperimenti, allora questi rapporti possono cambiare. Nello specifico più si aumenta il k_attraction e minore sarà il rapporto con il k_formation."
   ]
  },
  {
   "cell_type": "markdown",
   "metadata": {},
   "source": [
    "--------------"
   ]
  },
  {
   "cell_type": "markdown",
   "metadata": {},
   "source": [
    "## **<font color=\"purple\">Esperimenti e Studio della velocità massima</font>** \n",
    "\n",
    "Per trovare la velocità massima che il nostro sistema di agenti riesce a seguire correttamente secondo la nostra legge di controllo si fissa i seguenti parametri:\n",
    "- k_attraction = 0.125 \n",
    "- k_formation = 1.25\n",
    "- mass = 1.0  \n",
    "- delta_time = 0.1  \n",
    "- epsilon_leader, epsilon_agents = 0.1 \n",
    "- radius = 3.0  \n",
    "- num_agents = 5 "
   ]
  },
  {
   "cell_type": "code",
   "execution_count": 19,
   "metadata": {},
   "outputs": [],
   "source": [
    "# Parametri del sistema\n",
    "k_attraction = 0.125  # Costante per l'attrazione del leader al suo goal \n",
    "k_formation = 1.25  # Costante per mantenere la formazione \n",
    "mass = 1.0  # Massa degli agenti e leader\n",
    "delta_time = 0.1  # Passo temporale\n",
    "epsilon_leader = 0.1 # Soglia per considerare un goal raggiunto (0.1)\n",
    "epsilon_agents = 0.1 # Soglia per considerare una posizione raggiunta (0.1)\n",
    "radius = 3.0  # Raggio della formazione\n",
    "num_agents = 5 # Numero totale di agenti semplici (escluso il leader)\n",
    "\n",
    "min_distance_from_leader = 5.0 # Distanza minima del goal dal leader\n",
    "domain_size = 10.0 # Dimensione del dominio di generazione del goal\n",
    "\n",
    "leader_region_center = np.array([5.0, 5.0]) # Centro della regione fissa in cui deve essere generato il leader\n",
    "leader_region_size = 5.0 # Dimensioni della regione fissa in cui deve essere generato il leader\n",
    "simple_agent_std_dev = 1.5 # Deviazione standard della gaussiana che serve per generare gli agenti"
   ]
  },
  {
   "cell_type": "markdown",
   "metadata": {},
   "source": [
    "Inoltre verranno utilizzate le seguenti funzioni (`simulate_step`, `run_simulation` e `update`) per eseguire tutti i calcoli e generare l'animazione."
   ]
  },
  {
   "cell_type": "code",
   "execution_count": 20,
   "metadata": {},
   "outputs": [],
   "source": [
    "# Funzione per simulare un passo della simulazione\n",
    "def simulate_step():\n",
    "    global leader, agents, goal_positions, goal_position, goal_velocity\n",
    "\n",
    "    # Movimento del goal del leader\n",
    "    goal_position = move_goal(goal_position, goal_velocity, delta_time)\n",
    "\n",
    "    # Movimento del leader\n",
    "    force_leader = calculate_attraction_force(leader.position, goal_position, k_attraction)\n",
    "    dynamics_leader = force_leader / mass\n",
    "    leader.velocity = dynamics_leader  # v = u # Dinamica a singolo integratore\n",
    "    leader.position += leader.velocity * delta_time\n",
    "\n",
    "    # Movimento degli agenti in formazione attorno al leader\n",
    "    goal_positions = distribute_agents_in_circle(leader.position, num_agents, radius)\n",
    "    assign_goals_to_agents(agents, goal_positions)\n",
    "\n",
    "    for agent in agents:\n",
    "        if agent.goal_position is not None:\n",
    "            # Calcola la forza attrattiva verso la posizione goal relativa\n",
    "            force = calculate_formation_force(agent.position, agent.goal_position, k_formation)\n",
    "            dynamics_agent = force / mass\n",
    "            agent.velocity = dynamics_agent  # v = u # Dinamica a singolo integratore\n",
    "            agent.position += agent.velocity * delta_time\n",
    "\n",
    "            # Controlla se l'agente ha raggiunto il goal\n",
    "            if np.linalg.norm(agent.position - agent.goal_position) < epsilon_agents:\n",
    "                agent.velocity = np.zeros(2)\n",
    "                agent.goal_position = None\n",
    "\n",
    "# Funzione per eseguire la simulazione completa e catturare i frame\n",
    "def run_simulation():\n",
    "    global frames\n",
    "    frames = []  # Inizializza la lista dei frame\n",
    "\n",
    "    for step in range(total_steps):\n",
    "        simulate_step()  # Simula un passo\n",
    "\n",
    "        if step % visualization_interval == 0:\n",
    "            frame_data = {\n",
    "                'leader': leader.position.copy(),\n",
    "                'agents': [agent.position.copy() for agent in agents],\n",
    "                'goal': goal_position.copy()\n",
    "            }\n",
    "            frames.append(frame_data)  # Salva i dati del frame\n",
    "\n",
    "# Funzione per aggiornare la visualizzazione\n",
    "def update(frame_index):\n",
    "    global frames\n",
    "\n",
    "    # Ottieni i dati del frame corrente\n",
    "    frame_data = frames[frame_index]\n",
    "\n",
    "    # Aggiorna la posizione del leader\n",
    "    sc_leader.set_offsets(frame_data['leader'])\n",
    "\n",
    "    # Aggiorna la posizione degli agenti\n",
    "    sc_agents.set_offsets(frame_data['agents'])\n",
    "\n",
    "    # Aggiorna la posizione del goal\n",
    "    sc_goal.set_offsets(frame_data['goal'])\n",
    "\n",
    "    # Centra la vista attorno al goal\n",
    "    ax.set_xlim(frame_data['leader'][0] - view_size / 2, frame_data['leader'][0] + view_size / 2)\n",
    "    ax.set_ylim(frame_data['leader'][1] - view_size / 2, frame_data['leader'][1] + view_size / 2)\n",
    "\n",
    "    return sc_leader, sc_agents, sc_goal"
   ]
  },
  {
   "cell_type": "markdown",
   "metadata": {},
   "source": [
    "Come già anticipato le tre funzioni sono:\n",
    "- **`simulate_step()`**: Simula un singolo passo temporale della dinamica del sistema.\n",
    "- **`run_simulation()`**: Esegue l'intera simulazione per il numero totale di passi (`total_steps`).\n",
    "- **`update()`**: Aggiorna la visualizzazione per un frame specifico dell'animazione.\n",
    "\n",
    "**NB** durante alcuni esperimenti le funzioni `simulate_step()` e `run_simulation()`, saranno modificate rispetto a quelle appena descritte in modo da poter eseguire i calcoli necessari a ottenere risultati utili."
   ]
  },
  {
   "cell_type": "markdown",
   "metadata": {},
   "source": [
    "Si va quindi a vedere cosa succede quando si varia la velocità con cui si muove il goal, ovvero si modifica `goal_speed`."
   ]
  },
  {
   "cell_type": "markdown",
   "metadata": {},
   "source": [
    "--------------"
   ]
  },
  {
   "cell_type": "markdown",
   "metadata": {},
   "source": [
    "#### goal_speed = 1.5"
   ]
  },
  {
   "cell_type": "code",
   "execution_count": 21,
   "metadata": {},
   "outputs": [
    {
     "data": {
      "image/png": "[encoded data removed]",
      "text/plain": [
       "<Figure size 576x576 with 1 Axes>"
      ]
     },
     "metadata": {
      "needs_background": "light"
     },
     "output_type": "display_data"
    }
   ],
   "source": [
    "# Parametri gestione simulazione\n",
    "total_steps = 400  # Numero totale di passi di simulazione\n",
    "visualization_interval = 5  # Ogni quanti passi catturare un frame\n",
    "\n",
    "# Parametro per la velocità del goal\n",
    "goal_speed = 1.5  # Velocità costante del goal ottimale: 0.5\n",
    "goal_velocity = np.random.uniform(-1, 1, size=2)  # Direzione iniziale casuale\n",
    "goal_velocity = goal_speed * goal_velocity / np.linalg.norm(goal_velocity)  # Normalizza la velocità\n",
    "\n",
    "view_size = 50.0  # Dimensione della finestra visibile\n",
    "\n",
    "# Inizializza il leader e i suoi agenti\n",
    "leader = generate_leader(leader_region_center, leader_region_size)  # Posizione iniziale del leader\n",
    "agents = generate_simple_agents(num_agents, leader.position, simple_agent_std_dev)\n",
    "\n",
    "# Genera il goal del leader\n",
    "goal_position = generate_goal_position(leader.position, min_distance_from_leader, domain_size)\n",
    "\n",
    "# Genera le posizioni goal degli agenti attorno al leader\n",
    "goal_positions = distribute_agents_in_circle(leader.position, num_agents, radius)\n",
    "assign_goals_to_agents(agents, goal_positions)\n",
    "\n",
    "# Visualizzazione iniziale\n",
    "fig, ax = plt.subplots(figsize=(8, 8))\n",
    "sc_leader = ax.scatter([leader.position[0]], [leader.position[1]], color='r', label='Leader', s=100)  # Leader\n",
    "sc_agents = ax.scatter([agent.position[0] for agent in agents], [agent.position[1] for agent in agents], color='b', label='Agenti', s=50)  # Agenti\n",
    "sc_goal = ax.scatter([goal_position[0]], [goal_position[1]], color='g', label='Goal Leader', s=100, marker='x')  # Goal leader\n",
    "\n",
    "# Configura il grafico\n",
    "ax.set_xlim(0, 10)\n",
    "ax.set_ylim(0, 10)\n",
    "ax.set_aspect('equal')\n",
    "ax.grid(True)\n",
    "ax.legend()\n",
    "\n",
    "# Esegui la simulazione e genera i frame\n",
    "run_simulation()\n",
    "\n",
    "# Animazione\n",
    "ani = FuncAnimation(fig, update, frames=len(frames), interval=20)  # frames=500, interval=50\n",
    "ani.save(f'goal_speed_{goal_speed}.gif', dpi=100, fps=30, writer='pillow')\n",
    "plt.show()"
   ]
  },
  {
   "cell_type": "markdown",
   "metadata": {},
   "source": [
    "Nel caso `goal_speed = 1.5` (3 volte il caso base goal_speed = 0.5), si può notare come il il **sistema si posizioni a una certa distanza costante dal goal dopo una prima fase di transizione**. "
   ]
  },
  {
   "cell_type": "markdown",
   "metadata": {},
   "source": [
    "**Notare che** la formazione degli agenti risulta essere leggermente decentrata rispetto al leader, ovvero **il leader non si trova esattamente al centro della formazione**.\n",
    "**Per affrontare questa problematica** l'idea è quella di calcolare una **predizione sulla posizione del leader** in modo da poter passare la posizione futura del leader agli agenti **in modo che la formazione** possa essere **più veloce a seguire i cambiamenti del leader**.\n",
    "Per realizzarla, prima si predice la posizione futura del leader usando l'equazione del moto uniforme $(\\text{posizione futura} = \\text{posizione attuale} + \\text{velocità attuale} \\cdot \\Delta t)$. Per implementarla, si calcola questa predizione direttamente nel passo della simulazione. Successivamente, quando si distribuisce gli agenti attorno al leader, si usa la posizione predetta invece della posizione attuale.\n",
    "\n",
    "Allora si modifica la funzione `simulate_step` nel seguente modo:"
   ]
  },
  {
   "cell_type": "code",
   "execution_count": 22,
   "metadata": {},
   "outputs": [],
   "source": [
    "def simulate_step():\n",
    "    global leader, agents, goal_positions, goal_position, goal_velocity\n",
    "\n",
    "    # Movimento del goal del leader\n",
    "    goal_position = move_goal(goal_position, goal_velocity, delta_time)\n",
    "\n",
    "    # Movimento del leader\n",
    "    force_leader = calculate_attraction_force(leader.position, goal_position, k_attraction)\n",
    "    dynamics_leader = force_leader / mass\n",
    "    leader.velocity = dynamics_leader  # v = u (Dinamica a singolo integratore)\n",
    "    leader.position += leader.velocity * delta_time\n",
    "\n",
    "    # Predizione della posizione futura del leader\n",
    "    predicted_leader_position = (leader.position + (leader.velocity * delta_time)*prediction_factor) # Modifica di simulate_step()\n",
    "    \n",
    "    # Movimento degli agenti in formazione attorno al leader\n",
    "    goal_positions = distribute_agents_in_circle(predicted_leader_position, num_agents, radius)  # Usa la posizione predetta\n",
    "    assign_goals_to_agents(agents, goal_positions)\n",
    "\n",
    "    for agent in agents:\n",
    "        if agent.goal_position is not None:\n",
    "            # Calcola la forza attrattiva verso la posizione goal relativa\n",
    "            force = calculate_formation_force(agent.position, agent.goal_position, k_formation)\n",
    "            dynamics_agent = force / mass\n",
    "            agent.velocity = dynamics_agent  # v = u (Dinamica a singolo integratore)\n",
    "            agent.position += agent.velocity * delta_time\n",
    "\n",
    "            # Controlla se l'agente ha raggiunto il goal\n",
    "            if np.linalg.norm(agent.position - agent.goal_position) < epsilon_agents:\n",
    "                agent.velocity = np.zeros(2)\n",
    "                agent.goal_position = None"
   ]
  },
  {
   "cell_type": "markdown",
   "metadata": {},
   "source": [
    "Effettuando la stessa simulazione, ma con `simulate_step` modificato otteniamo:"
   ]
  },
  {
   "cell_type": "code",
   "execution_count": 23,
   "metadata": {},
   "outputs": [
    {
     "data": {
      "image/png": "[encoded data removed]",
      "text/plain": [
       "<Figure size 576x576 with 1 Axes>"
      ]
     },
     "metadata": {
      "needs_background": "light"
     },
     "output_type": "display_data"
    }
   ],
   "source": [
    "# Parametri gestione simulazione\n",
    "total_steps = 400  # Numero totale di passi di simulazione\n",
    "visualization_interval = 5  # Ogni quanti passi catturare un frame\n",
    "\n",
    "# Parametro per la velocità del goal\n",
    "goal_speed = 1.5  # Velocità costante del goal ottimale: 0.5\n",
    "goal_velocity = np.random.uniform(-1, 1, size=2)  # Direzione iniziale casuale\n",
    "goal_velocity = goal_speed * goal_velocity / np.linalg.norm(goal_velocity)  # Normalizza la velocità\n",
    "\n",
    "# Fattore per la predizione della posizione del leader\n",
    "prediction_factor = 7  # Fattore per regolare la predizione\n",
    "\n",
    "view_size = 50.0  # Dimensione della finestra visibile\n",
    "\n",
    "# Inizializza il leader e i suoi agenti\n",
    "leader = generate_leader(leader_region_center, leader_region_size)  # Posizione iniziale del leader\n",
    "agents = generate_simple_agents(num_agents, leader.position, simple_agent_std_dev)\n",
    "\n",
    "# Genera il goal del leader\n",
    "goal_position = generate_goal_position(leader.position, min_distance_from_leader, domain_size)\n",
    "\n",
    "# Genera le posizioni goal degli agenti attorno al leader\n",
    "goal_positions = distribute_agents_in_circle(leader.position, num_agents, radius)\n",
    "assign_goals_to_agents(agents, goal_positions)\n",
    "\n",
    "# Visualizzazione iniziale\n",
    "fig, ax = plt.subplots(figsize=(8, 8))\n",
    "sc_leader = ax.scatter([leader.position[0]], [leader.position[1]], color='r', label='Leader', s=100)  # Leader\n",
    "sc_agents = ax.scatter([agent.position[0] for agent in agents], [agent.position[1] for agent in agents], color='b', label='Agenti', s=50)  # Agenti\n",
    "sc_goal = ax.scatter([goal_position[0]], [goal_position[1]], color='g', label='Goal Leader', s=100, marker='x')  # Goal leader\n",
    "\n",
    "# Configura il grafico\n",
    "ax.set_xlim(0, 10)\n",
    "ax.set_ylim(0, 10)\n",
    "ax.set_aspect('equal')\n",
    "ax.grid(True)\n",
    "ax.legend()\n",
    "\n",
    "# Esegui la simulazione e genera i frame\n",
    "run_simulation()\n",
    "\n",
    "# Animazione\n",
    "ani = FuncAnimation(fig, update, frames=len(frames), interval=20)  # frames=500, interval=50\n",
    "ani.save(f'goal_speed_{goal_speed}_mod.gif', dpi=100, fps=30, writer='pillow')\n",
    "plt.show()"
   ]
  },
  {
   "cell_type": "markdown",
   "metadata": {},
   "source": [
    "Notare che adesso:\n",
    "- La variabile `predicted_leader_position` calcola la posizione futura del leader utilizzando la sua velocità attuale e il passo temporale `delta_time`.\n",
    "- La funzione `distribute_agents_in_circle` utilizza questa posizione predetta come centro della formazione.\n",
    "\n",
    "Notare inoltre che per regolare la predizione è stato usato un fattore `prediction_factor`. Durante gli esperimenti il valore ottimale da attribuire ad esso è risultato essere pari a 7.\n",
    "\n",
    "**NB** **Nei prossimi esperimenti verrà usata la posizione del leader predetta** per il calcolo della formazioni di agenti, in modo da non riscontrare il problema del decentramento della formazione rispetto al leader."
   ]
  },
  {
   "cell_type": "markdown",
   "metadata": {},
   "source": [
    "--------------"
   ]
  },
  {
   "cell_type": "markdown",
   "metadata": {},
   "source": [
    "#### goal_speed = 2.0"
   ]
  },
  {
   "cell_type": "code",
   "execution_count": 24,
   "metadata": {},
   "outputs": [
    {
     "data": {
      "image/png": "[encoded data removed]",
      "text/plain": [
       "<Figure size 576x576 with 1 Axes>"
      ]
     },
     "metadata": {
      "needs_background": "light"
     },
     "output_type": "display_data"
    }
   ],
   "source": [
    "# Parametri gestione simulazione\n",
    "total_steps = 400  # Numero totale di passi di simulazione\n",
    "visualization_interval = 5  # Ogni quanti passi catturare un frame\n",
    "\n",
    "# Parametro per la velocità del goal\n",
    "goal_speed = 2.0  # Velocità costante del goal ottimale: 0.5\n",
    "goal_velocity = np.random.uniform(-1, 1, size=2)  # Direzione iniziale casuale\n",
    "goal_velocity = goal_speed * goal_velocity / np.linalg.norm(goal_velocity)  # Normalizza la velocità\n",
    "\n",
    "# Fattore per la predizione della posizione del leader\n",
    "prediction_factor = 7  # Fattore per regolare la predizione\n",
    "\n",
    "view_size = 60.0  # Dimensione della finestra visibile\n",
    "\n",
    "# Inizializza il leader e i suoi agenti\n",
    "leader = generate_leader(leader_region_center, leader_region_size)  # Posizione iniziale del leader\n",
    "agents = generate_simple_agents(num_agents, leader.position, simple_agent_std_dev)\n",
    "\n",
    "# Genera il goal del leader\n",
    "goal_position = generate_goal_position(leader.position, min_distance_from_leader, domain_size)\n",
    "\n",
    "# Genera le posizioni goal degli agenti attorno al leader\n",
    "goal_positions = distribute_agents_in_circle(leader.position, num_agents, radius)\n",
    "assign_goals_to_agents(agents, goal_positions)\n",
    "\n",
    "# Visualizzazione iniziale\n",
    "fig, ax = plt.subplots(figsize=(8, 8))\n",
    "sc_leader = ax.scatter([leader.position[0]], [leader.position[1]], color='r', label='Leader', s=100)  # Leader\n",
    "sc_agents = ax.scatter([agent.position[0] for agent in agents], [agent.position[1] for agent in agents], color='b', label='Agenti', s=50)  # Agenti\n",
    "sc_goal = ax.scatter([goal_position[0]], [goal_position[1]], color='g', label='Goal Leader', s=100, marker='x')  # Goal leader\n",
    "\n",
    "# Configura il grafico\n",
    "ax.set_xlim(0, 10)\n",
    "ax.set_ylim(0, 10)\n",
    "ax.set_aspect('equal')\n",
    "ax.grid(True)\n",
    "ax.legend()\n",
    "\n",
    "# Esegui la simulazione e genera i frame\n",
    "run_simulation()\n",
    "\n",
    "# Animazione\n",
    "ani = FuncAnimation(fig, update, frames=len(frames), interval=50)  # frames=500, interval=50\n",
    "ani.save(f'goal_speed_{goal_speed}.gif', dpi=100, fps=30, writer='pillow')\n",
    "plt.show()"
   ]
  },
  {
   "cell_type": "markdown",
   "metadata": {},
   "source": [
    "Nel caso `goal_speed = 2.0` (4 volte il caso base goal_speed = 0.5), si ha un comportamento simile al precedente solo che la **distanza costante tra goal e sistema risulta essere maggiore**. "
   ]
  },
  {
   "cell_type": "markdown",
   "metadata": {},
   "source": [
    "--------------"
   ]
  },
  {
   "cell_type": "markdown",
   "metadata": {},
   "source": [
    "#### goal_speed = 10.0"
   ]
  },
  {
   "cell_type": "code",
   "execution_count": 25,
   "metadata": {},
   "outputs": [
    {
     "data": {
      "image/png": "[encoded data removed]",
      "text/plain": [
       "<Figure size 576x576 with 1 Axes>"
      ]
     },
     "metadata": {
      "needs_background": "light"
     },
     "output_type": "display_data"
    }
   ],
   "source": [
    "# Parametri gestione simulazione\n",
    "total_steps = 400  # Numero totale di passi di simulazione\n",
    "visualization_interval = 5  # Ogni quanti passi catturare un frame\n",
    "\n",
    "# Parametro per la velocità del goal\n",
    "goal_speed = 10.0  # Velocità costante del goal ottimale: 0.5\n",
    "goal_velocity = np.random.uniform(-1, 1, size=2)  # Direzione iniziale casuale\n",
    "goal_velocity = goal_speed * goal_velocity / np.linalg.norm(goal_velocity)  # Normalizza la velocità\n",
    "\n",
    "# Fattore per la predizione della posizione del leader\n",
    "prediction_factor = 7  # Fattore per regolare la predizione\n",
    "\n",
    "view_size = 200.0  # Dimensione della finestra visibile\n",
    "\n",
    "# Inizializza il leader e i suoi agenti\n",
    "leader = generate_leader(leader_region_center, leader_region_size)  # Posizione iniziale del leader\n",
    "agents = generate_simple_agents(num_agents, leader.position, simple_agent_std_dev)\n",
    "\n",
    "# Genera il goal del leader\n",
    "goal_position = generate_goal_position(leader.position, min_distance_from_leader, domain_size)\n",
    "\n",
    "# Genera le posizioni goal degli agenti attorno al leader\n",
    "goal_positions = distribute_agents_in_circle(leader.position, num_agents, radius)\n",
    "assign_goals_to_agents(agents, goal_positions)\n",
    "\n",
    "# Visualizzazione iniziale\n",
    "fig, ax = plt.subplots(figsize=(8, 8))\n",
    "sc_leader = ax.scatter([leader.position[0]], [leader.position[1]], color='r', label='Leader', s=100)  # Leader\n",
    "sc_agents = ax.scatter([agent.position[0] for agent in agents], [agent.position[1] for agent in agents], color='b', label='Agenti', s=50)  # Agenti\n",
    "sc_goal = ax.scatter([goal_position[0]], [goal_position[1]], color='g', label='Goal Leader', s=100, marker='x')  # Goal leader\n",
    "\n",
    "# Configura il grafico\n",
    "ax.set_xlim(0, 10)\n",
    "ax.set_ylim(0, 10)\n",
    "ax.set_aspect('equal')\n",
    "ax.grid(True)\n",
    "ax.legend()\n",
    "\n",
    "# Esegui la simulazione e genera i frame\n",
    "run_simulation()\n",
    "\n",
    "# Animazione - Riusiamo il codice della funzione update definita precedentemente\n",
    "ani = FuncAnimation(fig, update, frames=len(frames), interval=50)  # frames=500, interval=50\n",
    "ani.save(f'goal_speed_{goal_speed}.gif', dpi=100, fps=30, writer='pillow')\n",
    "plt.show()"
   ]
  },
  {
   "cell_type": "markdown",
   "metadata": {},
   "source": [
    "Nel caso `goal_speed = 10.0` (20 volte il caso base goal_speed = 0.5), si ha che la distanza costante tra goal e sistema risulta essere molto maggiore rispetto a prima. Questo ci fa intuire che mantendo le stesse configurazioni delle costanti e modificando solo la velocità si ha che **al crescere della velocità costante del goal crescerà anche la distanza costante tra sistema e goal**. "
   ]
  },
  {
   "cell_type": "markdown",
   "metadata": {},
   "source": [
    "--------------"
   ]
  },
  {
   "cell_type": "markdown",
   "metadata": {},
   "source": [
    "#### goal_speed crescente\n",
    "\n",
    "Per ottenere questo esperimento si modifica la funzione `simulate_step()`."
   ]
  },
  {
   "cell_type": "code",
   "execution_count": 26,
   "metadata": {},
   "outputs": [
    {
     "data": {
      "image/png": "[encoded data removed]",
      "text/plain": [
       "<Figure size 576x576 with 1 Axes>"
      ]
     },
     "metadata": {
      "needs_background": "light"
     },
     "output_type": "display_data"
    }
   ],
   "source": [
    "# Parametri gestione simulazione\n",
    "total_steps = 400  # Numero totale di passi di simulazione\n",
    "visualization_interval = 5  # Ogni quanti passi catturare un frame\n",
    "\n",
    "# Parametro per la velocità del goal\n",
    "goal_speed = 0.5  # Velocità iniziale non può essere 0\n",
    "step_increase_goal_speed = 0.025 # ci dice di quanto aumenta la velocità ad ogni passo\n",
    "goal_velocity = np.random.uniform(-1, 1, size=2)  # Direzione iniziale casuale\n",
    "goal_velocity = goal_speed * goal_velocity / np.linalg.norm(goal_velocity)  # Normalizza la velocità\n",
    "\n",
    "# Fattore per la predizione della posizione del leader\n",
    "prediction_factor = 7  # Fattore per regolare la predizione\n",
    "\n",
    "view_size = 150.0  # Dimensione della finestra visibile\n",
    "\n",
    "# Inizializza il leader e i suoi agenti\n",
    "leader = generate_leader(leader_region_center, leader_region_size)  # Posizione iniziale del leader\n",
    "agents = generate_simple_agents(num_agents, leader.position, simple_agent_std_dev)\n",
    "\n",
    "# Genera il goal del leader\n",
    "goal_position = generate_goal_position(leader.position, min_distance_from_leader, domain_size)\n",
    "\n",
    "# Genera le posizioni goal degli agenti attorno al leader\n",
    "goal_positions = distribute_agents_in_circle(leader.position, num_agents, radius)\n",
    "assign_goals_to_agents(agents, goal_positions)\n",
    "\n",
    "# Funzione per simulare un passo della simulazione\n",
    "def simulate_step():\n",
    "    global leader, agents, goal_positions, goal_position, goal_velocity, goal_speed\n",
    "\n",
    "    # Incrementa la velocità del goal\n",
    "    goal_speed += step_increase_goal_speed\n",
    "    \n",
    "    # Aggiorna la velocità del goal con la nuova magnitudine\n",
    "    goal_velocity = goal_speed * goal_velocity / np.linalg.norm(goal_velocity)\n",
    "\n",
    "    # Movimento del goal del leader\n",
    "    goal_position = move_goal(goal_position, goal_velocity, delta_time)\n",
    "\n",
    "    # Movimento del leader\n",
    "    force_leader = calculate_attraction_force(leader.position, goal_position, k_attraction)\n",
    "    dynamics_leader = force_leader / mass\n",
    "    leader.velocity = dynamics_leader  # v = u\n",
    "    leader.position += leader.velocity * delta_time\n",
    "\n",
    "    # Predizione della posizione futura del leader\n",
    "    predicted_leader_position = (leader.position + (leader.velocity * delta_time)*prediction_factor) # Modifica di simulate_step()\n",
    "    \n",
    "    # Movimento degli agenti in formazione attorno al leader\n",
    "    goal_positions = distribute_agents_in_circle(predicted_leader_position, num_agents, radius)  # Usa la posizione predetta\n",
    "    assign_goals_to_agents(agents, goal_positions)\n",
    "\n",
    "    for agent in agents:\n",
    "        if agent.goal_position is not None:\n",
    "            # Calcola la forza attrattiva verso la posizione goal relativa\n",
    "            force = calculate_formation_force(agent.position, agent.goal_position, k_formation)\n",
    "            dynamics_agent = force / mass\n",
    "            agent.velocity = dynamics_agent  # v = u\n",
    "            agent.position += agent.velocity * delta_time\n",
    "\n",
    "            # Controlla se l'agente ha raggiunto il goal\n",
    "            if np.linalg.norm(agent.position - agent.goal_position) < epsilon_agents:\n",
    "                agent.velocity = np.zeros(2)\n",
    "                agent.goal_position = None\n",
    "\n",
    "# Visualizzazione iniziale\n",
    "fig, ax = plt.subplots(figsize=(8, 8))\n",
    "sc_leader = ax.scatter([], [], color='r', label='Leader', s=100)  # Leader\n",
    "sc_agents = ax.scatter([], [], color='b', label='Agenti', s=50)  # Agenti\n",
    "sc_goal = ax.scatter([], [], color='g', label='Goal Leader', s=100, marker='x')  # Goal leader\n",
    "\n",
    "# Configura il grafico\n",
    "ax.set_xlim(0, 10)\n",
    "ax.set_ylim(0, 10)\n",
    "ax.set_aspect('equal')\n",
    "ax.grid(True)\n",
    "ax.legend()\n",
    "\n",
    "# Simulazione e animazione\n",
    "run_simulation()  # Esegui la simulazione\n",
    "\n",
    "# Animazione\n",
    "ani = FuncAnimation(fig, update, frames=len(frames), interval=50)\n",
    "ani.save(f'goal_speed_increasing.gif', dpi=100, fps=30, writer='pillow')\n",
    "plt.show()"
   ]
  },
  {
   "cell_type": "markdown",
   "metadata": {},
   "source": [
    "Nel caso `goal_speed` cresca con il tempo (ovvero non è costante), si ha che il **sistema non riuscirà a posizionarsi a una distanza costante dal goal**, ma anzi sembrerà che il sistema \"perda\" il goal. "
   ]
  },
  {
   "cell_type": "markdown",
   "metadata": {},
   "source": [
    "--------------"
   ]
  },
  {
   "cell_type": "markdown",
   "metadata": {},
   "source": [
    "#### goal_speed crescente + stop\n",
    "\n",
    "Per ottenere questo esperimento si modifica la funzione `simulate_step()` e `run_simulation()`."
   ]
  },
  {
   "cell_type": "code",
   "execution_count": 27,
   "metadata": {},
   "outputs": [
    {
     "data": {
      "image/png": "[encoded data removed]",
      "text/plain": [
       "<Figure size 576x576 with 1 Axes>"
      ]
     },
     "metadata": {
      "needs_background": "light"
     },
     "output_type": "display_data"
    }
   ],
   "source": [
    "# Parametri gestione simulazione\n",
    "total_steps = 1500  # Numero totale di passi di simulazione\n",
    "visualization_interval = 5  # Ogni quanti passi catturare un frame\n",
    "\n",
    "# Parametro per la velocità del goal\n",
    "goal_speed = 0.5  # Velocità iniziale non può essere 0\n",
    "step_increase_goal_speed = 0.025 # ci dice di quanto aumenta la velocità ad ogni passo\n",
    "goal_velocity = np.random.uniform(-1, 1, size=2)  # Direzione iniziale casuale\n",
    "goal_velocity = goal_speed * goal_velocity / np.linalg.norm(goal_velocity)  # Normalizza la velocità\n",
    "\n",
    "# Fattore per la predizione della posizione del leader\n",
    "prediction_factor = 7  # Fattore per regolare la predizione\n",
    "\n",
    "view_size = 90.0  # Dimensione della finestra visibile\n",
    "\n",
    "# Inizializza il leader e i suoi agenti\n",
    "leader = generate_leader(leader_region_center, leader_region_size)  # Posizione iniziale del leader\n",
    "agents = generate_simple_agents(num_agents, leader.position, simple_agent_std_dev)\n",
    "\n",
    "# Genera il goal del leader\n",
    "goal_position = generate_goal_position(leader.position, min_distance_from_leader, domain_size)\n",
    "\n",
    "# Genera le posizioni goal degli agenti attorno al leader\n",
    "goal_positions = distribute_agents_in_circle(leader.position, num_agents, radius)\n",
    "assign_goals_to_agents(agents, goal_positions)\n",
    "\n",
    "# Numero totale di frame\n",
    "total_frames = total_steps #int(total_steps / visualization_interval)  # Stesso valore passato a FuncAnimation (Converti in intero)\n",
    "\n",
    "# Funzione per simulare un passo della simulazione\n",
    "def simulate_step():\n",
    "    global leader, agents, goal_positions, goal_position, goal_velocity, goal_speed\n",
    "    \n",
    "    # Se siamo a metà dell'animazione, ferma il goal\n",
    "    if current_frame > total_frames / 2:\n",
    "        goal_speed = 0.0  # Ferma il goal azzerandone la velocità\n",
    "        goal_velocity = np.zeros_like(goal_velocity)  # Azzerare la velocità di movimento\n",
    "\n",
    "    # Incrementa la velocità del goal se non è fermo\n",
    "    if goal_speed > 0:\n",
    "        goal_speed += step_increase_goal_speed\n",
    "        goal_velocity = goal_speed * goal_velocity / np.linalg.norm(goal_velocity)\n",
    "\n",
    "        # Movimento del goal del leader\n",
    "        goal_position = move_goal(goal_position, goal_velocity, delta_time)\n",
    "\n",
    "    # Movimento del leader\n",
    "    force_leader = calculate_attraction_force(leader.position, goal_position, k_attraction)\n",
    "    dynamics_leader = force_leader / mass\n",
    "    leader.velocity = dynamics_leader  # v = u\n",
    "    leader.position += leader.velocity * delta_time\n",
    "\n",
    "    # Predizione della posizione futura del leader\n",
    "    predicted_leader_position = (leader.position + (leader.velocity * delta_time)*prediction_factor) # Modifica di simulate_step()\n",
    "    \n",
    "    # Movimento degli agenti in formazione attorno al leader\n",
    "    goal_positions = distribute_agents_in_circle(predicted_leader_position, num_agents, radius)  # Usa la posizione predetta\n",
    "    assign_goals_to_agents(agents, goal_positions)\n",
    "\n",
    "    for agent in agents:\n",
    "        if agent.goal_position is not None:\n",
    "            # Calcola la forza attrattiva verso la posizione goal relativa\n",
    "            force = calculate_formation_force(agent.position, agent.goal_position, k_formation)\n",
    "            dynamics_agent = force / mass\n",
    "            agent.velocity = dynamics_agent  # v = u\n",
    "            agent.position += agent.velocity * delta_time\n",
    "\n",
    "            # Controlla se l'agente ha raggiunto il goal\n",
    "            if np.linalg.norm(agent.position - agent.goal_position) < epsilon_agents:\n",
    "                agent.velocity = np.zeros(2)\n",
    "                agent.goal_position = None\n",
    "\n",
    "\n",
    "# Funzione per eseguire la simulazione completa e catturare i frame\n",
    "def run_simulation():\n",
    "    global frames, current_frame\n",
    "    frames = []  # Inizializza la lista dei frame\n",
    "    current_frame = 0  # Frame iniziale\n",
    "\n",
    "    for step in range(total_frames):\n",
    "        current_frame = step\n",
    "        simulate_step()  # Simula un passo\n",
    "\n",
    "        if step % visualization_interval == 0:\n",
    "            frame_data = {\n",
    "                'leader': leader.position.copy(),\n",
    "                'agents': [agent.position.copy() for agent in agents],\n",
    "                'goal': goal_position.copy()\n",
    "            }\n",
    "            frames.append(frame_data)  # Salva i dati del frame\n",
    "\n",
    "# Visualizzazione iniziale\n",
    "fig, ax = plt.subplots(figsize=(8, 8))\n",
    "sc_leader = ax.scatter([leader.position[0]], [leader.position[1]], color='r', label='Leader', s=100)  # Leader\n",
    "sc_agents = ax.scatter([agent.position[0] for agent in agents], [agent.position[1] for agent in agents], color='b', label='Agenti', s=50)  # Agenti\n",
    "sc_goal = ax.scatter([goal_position[0]], [goal_position[1]], color='g', label='Goal Leader', s=100, marker='x')  # Goal leader\n",
    "\n",
    "# Configura il grafico\n",
    "ax.set_xlim(0, 10)\n",
    "ax.set_ylim(0, 10)\n",
    "ax.set_aspect('equal')\n",
    "ax.grid(True)\n",
    "ax.legend()\n",
    "\n",
    "# Simulazione e animazione\n",
    "run_simulation()  # Esegui la simulazione\n",
    "\n",
    "# Animazione\n",
    "ani = FuncAnimation(fig, update, frames=len(frames), interval=50)\n",
    "ani.save(f'goal_speed_increasing_&_stop.gif', dpi=100, fps=30, writer='pillow')\n",
    "plt.show()"
   ]
  },
  {
   "cell_type": "markdown",
   "metadata": {},
   "source": [
    "Nel caso `goal_speed` cresca con il tempo (ovvero non è costante) e poi si arresti, si ha che il **sistema dopo una prima fase in cui cerca di seguire il goal, riuscirà a raggiungerlo una volta che esso si ferma**. Gli agenti riusciranno inoltre a posizionarsi in modo corretto intorno ad esso."
   ]
  },
  {
   "cell_type": "markdown",
   "metadata": {},
   "source": [
    "--------------"
   ]
  },
  {
   "cell_type": "markdown",
   "metadata": {},
   "source": [
    "#### goal_speed crescente + k crescente\n",
    "\n",
    "Per ottenere questo esperimento si modifica la funzione `simulate_step()` e si riutilizza la funzione `run_simulation()` del caso base."
   ]
  },
  {
   "cell_type": "code",
   "execution_count": 28,
   "metadata": {},
   "outputs": [
    {
     "data": {
      "image/png": "[encoded data removed]",
      "text/plain": [
       "<Figure size 576x576 with 1 Axes>"
      ]
     },
     "metadata": {
      "needs_background": "light"
     },
     "output_type": "display_data"
    }
   ],
   "source": [
    "# Parametri gestione simulazione\n",
    "total_steps = 450  # Numero totale di passi di simulazione\n",
    "visualization_interval = 5  # Ogni quanti passi catturare un frame\n",
    "\n",
    "# Parametri del sistema\n",
    "k_attraction = 0.125  # Costante per l'attrazione del leader al suo goal (k_attraction buono = 50)\n",
    "k_formation = 1.25  # Costante per mantenere la formazione (k_formation forte = 100)\n",
    "step_increase_k = 0.025 # ci dice di quanto aumenta la velocità ad ogni passo\n",
    "\n",
    "# Parametro per la velocità del goal\n",
    "goal_speed = 0.5  # Velocità iniziale non può essere 1\n",
    "step_increase_goal_speed = 0.025 # ci dice di quanto aumenta la velocità ad ogni passo\n",
    "goal_velocity = np.random.uniform(-1, 1, size=2)  # Direzione iniziale casuale\n",
    "goal_velocity = goal_speed * goal_velocity / np.linalg.norm(goal_velocity)  # Normalizza la velocità\n",
    "\n",
    "# Fattore per la predizione della posizione del leader\n",
    "prediction_factor = 7  # Fattore per regolare la predizione\n",
    "\n",
    "view_size = 30.0  # Dimensione della finestra visibile\n",
    "\n",
    "# Inizializza il leader e i suoi agenti\n",
    "leader = generate_leader(leader_region_center, leader_region_size)  # Posizione iniziale del leader\n",
    "agents = generate_simple_agents(num_agents, leader.position, simple_agent_std_dev)\n",
    "\n",
    "# Genera il goal del leader\n",
    "goal_position = generate_goal_position(leader.position, min_distance_from_leader, domain_size)\n",
    "\n",
    "# Genera le posizioni goal degli agenti attorno al leader\n",
    "goal_positions = distribute_agents_in_circle(leader.position, num_agents, radius)\n",
    "assign_goals_to_agents(agents, goal_positions)\n",
    "\n",
    "# Funzione per simulare un passo della simulazione\n",
    "def simulate_step():\n",
    "    global leader, agents, goal_positions, goal_position, goal_velocity, goal_speed\n",
    "    global k_attraction, k_formation\n",
    "\n",
    "    # Incrementa la velocità del goal\n",
    "    goal_speed += step_increase_goal_speed\n",
    "\n",
    "    # Aggiorna la velocità del goal con la nuova magnitudine\n",
    "    goal_velocity = goal_speed * goal_velocity / np.linalg.norm(goal_velocity)\n",
    "\n",
    "    # Incrementa k_attraction e k_formation\n",
    "    k_attraction += step_increase_k\n",
    "    k_formation += step_increase_k  \n",
    "\n",
    "    # Movimento del leader\n",
    "    force_leader = calculate_attraction_force(leader.position, goal_position, k_attraction)\n",
    "    acceleration_leader = force_leader / mass\n",
    "    leader.velocity = acceleration_leader * delta_time\n",
    "    leader.position += leader.velocity * delta_time\n",
    "\n",
    "    # Movimento del goal del leader\n",
    "    goal_position = move_goal(goal_position, goal_velocity, delta_time)\n",
    "\n",
    "    # Predizione della posizione futura del leader\n",
    "    predicted_leader_position = (leader.position + (leader.velocity * delta_time)*prediction_factor) # Modifica di simulate_step()\n",
    "    \n",
    "    # Movimento degli agenti in formazione attorno al leader\n",
    "    goal_positions = distribute_agents_in_circle(predicted_leader_position, num_agents, radius)  # Usa la posizione predetta\n",
    "    assign_goals_to_agents(agents, goal_positions)\n",
    "\n",
    "    # Aggiorna la posizione di ogni agente\n",
    "    for agent in agents:\n",
    "        if agent.goal_position is not None:\n",
    "            # Calcola la forza attrattiva verso la posizione goal relativa\n",
    "            force = calculate_formation_force(agent.position, agent.goal_position, k_formation)\n",
    "            acceleration = force / mass\n",
    "            agent.velocity = acceleration * delta_time\n",
    "            agent.position += agent.velocity * delta_time\n",
    "\n",
    "            # Controlla se l'agente ha raggiunto il goal\n",
    "            if np.linalg.norm(agent.position - agent.goal_position) < epsilon_agents:\n",
    "                agent.velocity = np.zeros(2)\n",
    "                agent.goal_position = None\n",
    "\n",
    "# Funzione per eseguire la simulazione completa e catturare i frame\n",
    "def run_simulation():\n",
    "    global frames\n",
    "    frames = []  # Inizializza la lista dei frame\n",
    "\n",
    "    for step in range(total_steps):\n",
    "        simulate_step()  # Simula un passo\n",
    "\n",
    "        if step % visualization_interval == 0:\n",
    "            frame_data = {\n",
    "                'leader': leader.position.copy(),\n",
    "                'agents': [agent.position.copy() for agent in agents],\n",
    "                'goal': goal_position.copy()\n",
    "            }\n",
    "            frames.append(frame_data)  # Salva i dati del frame\n",
    "\n",
    "# Visualizzazione iniziale\n",
    "fig, ax = plt.subplots(figsize=(8, 8))\n",
    "sc_leader = ax.scatter([leader.position[0]], [leader.position[1]], color='r', label='Leader', s=100)  # Leader\n",
    "sc_agents = ax.scatter([agent.position[0] for agent in agents], [agent.position[1] for agent in agents], color='b', label='Agenti', s=50)  # Agenti\n",
    "sc_goal = ax.scatter([goal_position[0]], [goal_position[1]], color='g', label='Goal Leader', s=100, marker='x')  # Goal leader\n",
    "\n",
    "# Configura il grafico\n",
    "ax.set_xlim(0, 10)\n",
    "ax.set_ylim(0, 10)\n",
    "ax.set_aspect('equal')\n",
    "ax.grid(True)\n",
    "ax.legend()\n",
    "\n",
    "# Esegui la simulazione\n",
    "run_simulation()\n",
    "\n",
    "# Animazione\n",
    "ani = FuncAnimation(fig, update, frames=len(frames), interval=50)\n",
    "ani.save(f'goal_speed_&_K_increasing.gif', dpi=100, fps=30, writer='pillow')\n",
    "plt.show()"
   ]
  },
  {
   "cell_type": "markdown",
   "metadata": {},
   "source": [
    "Nel caso `goal_speed` cresca con il tempo (ovvero non è costante) e crescano con il tempo anche `k_attraction` e `k_formation`, si ha che il leader e gli **agenti riescono a seguire il goal**."
   ]
  },
  {
   "cell_type": "markdown",
   "metadata": {},
   "source": [
    "--------------"
   ]
  },
  {
   "cell_type": "markdown",
   "metadata": {},
   "source": [
    "#### goal_speed base (0.5) + k_attraction alto (2.5)\n",
    "\n",
    "Per ottenere questo esperimento si modifica la funzione `simulate_step()` e si riutilizza la funzione `run_simulation()` del caso base."
   ]
  },
  {
   "cell_type": "code",
   "execution_count": 29,
   "metadata": {},
   "outputs": [
    {
     "data": {
      "image/png": "[encoded data removed]",
      "text/plain": [
       "<Figure size 576x576 with 1 Axes>"
      ]
     },
     "metadata": {
      "needs_background": "light"
     },
     "output_type": "display_data"
    }
   ],
   "source": [
    "# Parametri gestione simulazione\n",
    "total_steps = 400  # Numero totale di passi di simulazione\n",
    "visualization_interval = 5  # Ogni quanti passi catturare un frame\n",
    "\n",
    "# Parametri del sistema\n",
    "k_attraction = 2.5  # Costante per l'attrazione del leader al suo goal \n",
    "k_formation = 1.25  # Costante per mantenere la formazione \n",
    "\n",
    "# Parametro per la velocità del goal\n",
    "goal_speed = 0.5  # Velocità costante del goal ottimale: 0.5\n",
    "goal_velocity = np.random.uniform(-1, 1, size=2)  # Direzione iniziale casuale\n",
    "goal_velocity = goal_speed * goal_velocity / np.linalg.norm(goal_velocity)  # Normalizza la velocità\n",
    "\n",
    "# Fattore per la predizione della posizione del leader\n",
    "prediction_factor = 7  # Fattore per regolare la predizione\n",
    "\n",
    "view_size = 20.0  # Dimensione della finestra visibile\n",
    "\n",
    "# Inizializza il leader e i suoi agenti\n",
    "leader = generate_leader(leader_region_center, leader_region_size)  # Posizione iniziale del leader\n",
    "agents = generate_simple_agents(num_agents, leader.position, simple_agent_std_dev)\n",
    "\n",
    "# Genera il goal del leader\n",
    "goal_position = generate_goal_position(leader.position, min_distance_from_leader, domain_size)\n",
    "\n",
    "# Genera le posizioni goal degli agenti attorno al leader\n",
    "goal_positions = distribute_agents_in_circle(leader.position, num_agents, radius)\n",
    "assign_goals_to_agents(agents, goal_positions)\n",
    "\n",
    "# Funzione per simulare un passo della simulazione\n",
    "def simulate_step():\n",
    "    global leader, agents, goal_positions, goal_position, goal_velocity\n",
    "\n",
    "    # Movimento del goal del leader\n",
    "    goal_position = move_goal(goal_position, goal_velocity, delta_time)\n",
    "\n",
    "    # Movimento del leader\n",
    "    force_leader = calculate_attraction_force(leader.position, goal_position, k_attraction)\n",
    "    dynamics_leader = force_leader / mass\n",
    "    leader.velocity = dynamics_leader  # v = u # Dinamica a singolo integratore\n",
    "    leader.position += leader.velocity * delta_time\n",
    "\n",
    "    # Predizione della posizione futura del leader\n",
    "    predicted_leader_position = (leader.position + (leader.velocity * delta_time)*prediction_factor) # Modifica di simulate_step()\n",
    "    \n",
    "    # Movimento degli agenti in formazione attorno al leader\n",
    "    goal_positions = distribute_agents_in_circle(predicted_leader_position, num_agents, radius)  # Usa la posizione predetta\n",
    "    assign_goals_to_agents(agents, goal_positions)\n",
    "\n",
    "    for agent in agents:\n",
    "        if agent.goal_position is not None:\n",
    "            # Calcola la forza attrattiva verso la posizione goal relativa\n",
    "            force = calculate_formation_force(agent.position, agent.goal_position, k_formation)\n",
    "            dynamics_agent = force / mass\n",
    "            agent.velocity = dynamics_agent  # v = u # Dinamica a singolo integratore\n",
    "            agent.position += agent.velocity * delta_time\n",
    "\n",
    "            # Controlla se l'agente ha raggiunto il goal\n",
    "            if np.linalg.norm(agent.position - agent.goal_position) < epsilon_agents:\n",
    "                agent.velocity = np.zeros(2)\n",
    "                agent.goal_position = None\n",
    "\n",
    "# Visualizzazione iniziale\n",
    "fig, ax = plt.subplots(figsize=(8, 8))\n",
    "sc_leader = ax.scatter([], [], color='r', label='Leader', s=100)  # Leader\n",
    "sc_agents = ax.scatter([], [], color='b', label='Agenti', s=50)  # Agenti\n",
    "sc_goal = ax.scatter([], [], color='g', label='Goal Leader', s=100, marker='x')  # Goal leader\n",
    "\n",
    "# Configura il grafico\n",
    "ax.set_xlim(0, 10)\n",
    "ax.set_ylim(0, 10)\n",
    "ax.set_aspect('equal')\n",
    "ax.grid(True)\n",
    "ax.legend()\n",
    "\n",
    "# Esegui la simulazione prima di avviare l'animazione\n",
    "run_simulation()\n",
    "\n",
    "# Animazione\n",
    "ani = FuncAnimation(fig, update, frames=len(frames), interval=50)\n",
    "ani.save('increasing_k_attraction.gif', dpi=100, fps=30, writer='pillow')\n",
    "plt.show()"
   ]
  },
  {
   "cell_type": "markdown",
   "metadata": {},
   "source": [
    "Nel caso `goal_speed` sia quello del caso base (0.5) e si aumenti solo il valore di `k_attraction` rispetto alla configurazione base, si può notare come il **leader segua in modo più puntuale e preciso il goal**, riducendo la distanza che si forma a regime tra essi.\n",
    "\n",
    "**NB** notare che in questo caso il k_attraction è il doppio di k_formation."
   ]
  },
  {
   "cell_type": "markdown",
   "metadata": {},
   "source": [
    "--------------"
   ]
  },
  {
   "cell_type": "markdown",
   "metadata": {},
   "source": [
    "## **<font color=\"purple\"> Conclusioni</font>** \n",
    "\n",
    "Dai precedenti esperimenti si può notare che:\n",
    "- Qualsiasi sia la velocità che si attribuisce al goal, si può notare che il **leader** sarà **attratto sempre nella direzione corretta**, ovvero la direzione del leader sarà sempre diretta verso il goal.  \n",
    "- Con una velocità costante del goal si può notare che, dopo una fase inziale in cui il leader cerca di raggiungere il goal, la distanza tra leader e goal, diventa costante. Inoltre, **più aumenta la velocità costante del goal più aumenta la distanza costante che si frappone tra il leader e il goal** entrambi in movimento.\n",
    "- Questa **distanza che il leader non riesce a colmare, varia in base alla velocità**. Per fare in modo che il leader segua esattamente il goal si può aumentare la costante k_attraction in modo proporzionale all'aumento della velocità.\n",
    "- Notare inoltre che all'aumentare della velocità del goal, gli agenti riescono a mantenere la distanza tra di loro, ma non riescono a disporsi correttamente intorno al leader, cioè il leader non risulta essere al centro della formazione. In questo caso, per risolvere il problema allora è necessario fare una predizione su quella che sarà la posizione del leader in modo tale da poter aggiornare le posizioni degli agenti in modo opportuno.\n",
    "- **Se la velocità del goal aumenta in modo costante allora il leader non riuscirà a raggiungere una distanza costante dal goal**, come nel caso della velocità costante. \n",
    "- Notare che **nel caso in cui il goal si arresti dopo un determinato tempo, il sistema riuscirà a raggiungere il goal e a disporsi nel modo corretto intorno ad esso**. Questo avviene sia nel caso a velocità costante che nel caso a velocità variabile.\n",
    "- **In base al caso d'uso specifico da implementare** nel sistema, è **necessario trovare la configurazione di parametri ottimali** per ciò che si vuole realizzare.\n",
    "\n",
    "In conclusione, se si ha dei `k_attraction` e `k_formation` fissi allora si può dire che aumentando la velocità costante del goal, si riesce sempre a \"seguire\" il goal anche se il sistema si stabilizzerà ad una certa distanza fissa. **Se** invece **si considera un'applicazione in cui è fondamentale che questa distanza fissa non superi un determinato limite di ricezione (ad esempio, la portata massima di un trasmettitore), si può affermare che il sistema non riesce a seguire il leader** ogni volta che supera questa distanza di ricezione. Per ottenere un sistema che segue meglio il goal si potrebbe allora pensare di aumentare le costanti k in proporzione a quanto viene aumentata la velocità."
   ]
  },
  {
   "cell_type": "code",
   "execution_count": null,
   "metadata": {},
   "outputs": [],
   "source": []
  }
 ],
 "metadata": {
  "kernelspec": {
   "display_name": "Python 3",
   "language": "python",
   "name": "python3"
  },
  "language_info": {
   "codemirror_mode": {
    "name": "ipython",
    "version": 3
   },
   "file_extension": ".py",
   "mimetype": "text/x-python",
   "name": "python",
   "nbconvert_exporter": "python",
   "pygments_lexer": "ipython3",
   "version": "3.8.5"
  }
 },
 "nbformat": 4,
 "nbformat_minor": 4
}
